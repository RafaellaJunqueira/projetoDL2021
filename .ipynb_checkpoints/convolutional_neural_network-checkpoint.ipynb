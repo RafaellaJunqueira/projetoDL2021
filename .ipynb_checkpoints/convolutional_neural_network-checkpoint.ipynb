{
 "cells": [
  {
   "cell_type": "markdown",
   "metadata": {
    "colab_type": "text",
    "id": "3DR-eO17geWu"
   },
   "source": [
    "# Projeto DL 2021 - Grupo Stonks"
   ]
  },
  {
   "cell_type": "code",
   "execution_count": null,
   "metadata": {},
   "outputs": [],
   "source": [
    "# !pip install --upgrade tensorflow keras Pillow\n",
    "# !pip install SciPy"
   ]
  },
  {
   "cell_type": "code",
   "execution_count": 15,
   "metadata": {
    "colab": {},
    "colab_type": "code",
    "id": "sCV30xyVhFbE"
   },
   "outputs": [],
   "source": [
    "import tensorflow as tf\n",
    "from keras.preprocessing.image import ImageDataGenerator"
   ]
  },
  {
   "cell_type": "code",
   "execution_count": 16,
   "metadata": {
    "colab": {},
    "colab_type": "code",
    "id": "FIleuCAjoFD8"
   },
   "outputs": [
    {
     "data": {
      "text/plain": [
       "'2.6.0'"
      ]
     },
     "execution_count": 16,
     "metadata": {},
     "output_type": "execute_result"
    }
   ],
   "source": [
    "tf.__version__"
   ]
  },
  {
   "cell_type": "markdown",
   "metadata": {
    "colab_type": "text",
    "id": "oxQxCBWyoGPE"
   },
   "source": [
    "## Parte 1 - Processamento dos dados"
   ]
  },
  {
   "cell_type": "markdown",
   "metadata": {
    "colab_type": "text",
    "id": "MvE-heJNo3GG"
   },
   "source": [
    "### Processar o Training set"
   ]
  },
  {
   "cell_type": "code",
   "execution_count": 17,
   "metadata": {
    "colab": {},
    "colab_type": "code",
    "id": "0koUcJMJpEBD"
   },
   "outputs": [
    {
     "name": "stdout",
     "output_type": "stream",
     "text": [
      "Found 80 images belonging to 4 classes.\n"
     ]
    }
   ],
   "source": [
    "train_datagen = ImageDataGenerator(rescale = 1./255,\n",
    "                                   shear_range = 0.2,\n",
    "                                   zoom_range = 0.2,\n",
    "                                   horizontal_flip = True)\n",
    "training_set = train_datagen.flow_from_directory('img/training_set',\n",
    "                                                 target_size = (64, 64),\n",
    "                                                 batch_size = 32,\n",
    "                                                 class_mode = 'categorical')"
   ]
  },
  {
   "cell_type": "markdown",
   "metadata": {
    "colab_type": "text",
    "id": "mrCMmGw9pHys"
   },
   "source": [
    "### Processar o Test set"
   ]
  },
  {
   "cell_type": "code",
   "execution_count": 18,
   "metadata": {
    "colab": {},
    "colab_type": "code",
    "id": "SH4WzfOhpKc3"
   },
   "outputs": [
    {
     "name": "stdout",
     "output_type": "stream",
     "text": [
      "Found 20 images belonging to 4 classes.\n"
     ]
    }
   ],
   "source": [
    "test_datagen = ImageDataGenerator(rescale = 1./255)\n",
    "test_set = test_datagen.flow_from_directory('img/test_set',\n",
    "                                            target_size = (64, 64),\n",
    "                                            batch_size = 32,\n",
    "                                            class_mode = 'categorical')"
   ]
  },
  {
   "cell_type": "markdown",
   "metadata": {
    "colab_type": "text",
    "id": "af8O4l90gk7B"
   },
   "source": [
    "## Parte 2 - Criação do CNN"
   ]
  },
  {
   "cell_type": "code",
   "execution_count": 19,
   "metadata": {},
   "outputs": [],
   "source": [
    "cnn = tf.keras.models.Sequential()"
   ]
  },
  {
   "cell_type": "markdown",
   "metadata": {
    "colab_type": "text",
    "id": "u5YJj_XMl5LF"
   },
   "source": [
    "### Passo 1 - Convolução e agrupamento"
   ]
  },
  {
   "cell_type": "code",
   "execution_count": 20,
   "metadata": {
    "colab": {},
    "colab_type": "code",
    "id": "XPzPrMckl-hV"
   },
   "outputs": [],
   "source": [
    "cnn.add(tf.keras.layers.Conv2D(filters=32, kernel_size=3, activation='relu', input_shape=[64, 64, 3]))"
   ]
  },
  {
   "cell_type": "code",
   "execution_count": 21,
   "metadata": {
    "colab": {},
    "colab_type": "code",
    "id": "ncpqPl69mOac"
   },
   "outputs": [],
   "source": [
    "cnn.add(tf.keras.layers.MaxPool2D(pool_size=2, strides=2))"
   ]
  },
  {
   "cell_type": "markdown",
   "metadata": {
    "colab_type": "text",
    "id": "xaTOgD8rm4mU"
   },
   "source": [
    "### Passo 2 - Adicionar segunda e terceira camada de convolução"
   ]
  },
  {
   "cell_type": "code",
   "execution_count": 22,
   "metadata": {
    "colab": {},
    "colab_type": "code",
    "id": "i_-FZjn_m8gk"
   },
   "outputs": [],
   "source": [
    "cnn.add(tf.keras.layers.Conv2D(filters=32, kernel_size=3, activation='relu'))\n",
    "cnn.add(tf.keras.layers.MaxPool2D(pool_size=2, strides=2))\n",
    "cnn.add(tf.keras.layers.Conv2D(filters=64, kernel_size=3, activation='relu'))\n",
    "cnn.add(tf.keras.layers.MaxPool2D(pool_size=2, strides=2))"
   ]
  },
  {
   "cell_type": "markdown",
   "metadata": {
    "colab_type": "text",
    "id": "tmiEuvTunKfk"
   },
   "source": [
    "### Passo 3 - Redimensionar as camadas"
   ]
  },
  {
   "cell_type": "code",
   "execution_count": 23,
   "metadata": {
    "colab": {},
    "colab_type": "code",
    "id": "6AZeOGCvnNZn"
   },
   "outputs": [],
   "source": [
    "cnn.add(tf.keras.layers.Flatten())"
   ]
  },
  {
   "cell_type": "markdown",
   "metadata": {
    "colab_type": "text",
    "id": "dAoSECOm203v"
   },
   "source": [
    "### Passo 4 - Conectar todas as camadas"
   ]
  },
  {
   "cell_type": "code",
   "execution_count": 24,
   "metadata": {
    "colab": {},
    "colab_type": "code",
    "id": "8GtmUlLd26Nq"
   },
   "outputs": [],
   "source": [
    "cnn.add(tf.keras.layers.Dense(units=128, activation='tanh'))\n",
    "cnn.add(tf.keras.layers.Dropout(0.1))\n",
    "cnn.add(tf.keras.layers.Dense(units=128, activation='tanh'))\n",
    "cnn.add(tf.keras.layers.Dropout(0.1))"
   ]
  },
  {
   "cell_type": "markdown",
   "metadata": {
    "colab_type": "text",
    "id": "yTldFvbX28Na"
   },
   "source": [
    "### Passo 5 - Camadas de saída"
   ]
  },
  {
   "cell_type": "code",
   "execution_count": 25,
   "metadata": {
    "colab": {},
    "colab_type": "code",
    "id": "1p_Zj1Mc3Ko_"
   },
   "outputs": [],
   "source": [
    "cnn.add(tf.keras.layers.Dense(units=4, activation='sigmoid'))"
   ]
  },
  {
   "cell_type": "markdown",
   "metadata": {
    "colab_type": "text",
    "id": "D6XkI90snSDl"
   },
   "source": [
    "## Parte 3 - Treinamento do CNN"
   ]
  },
  {
   "cell_type": "markdown",
   "metadata": {
    "colab_type": "text",
    "id": "vfrFQACEnc6i"
   },
   "source": [
    "### Passo 1 - Compilar o CNN"
   ]
  },
  {
   "cell_type": "code",
   "execution_count": 26,
   "metadata": {
    "colab": {},
    "colab_type": "code",
    "id": "NALksrNQpUlJ"
   },
   "outputs": [],
   "source": [
    "cnn.compile(optimizer = 'adam', loss = 'categorical_crossentropy', metrics = ['accuracy'])"
   ]
  },
  {
   "cell_type": "markdown",
   "metadata": {
    "colab_type": "text",
    "id": "ehS-v3MIpX2h"
   },
   "source": [
    "### Passo 2 - Treinar o CNN no Training set e comparar com o Test set"
   ]
  },
  {
   "cell_type": "code",
   "execution_count": 27,
   "metadata": {
    "colab": {},
    "colab_type": "code",
    "id": "XUj1W4PJptta",
    "scrolled": false
   },
   "outputs": [
    {
     "name": "stdout",
     "output_type": "stream",
     "text": [
      "Epoch 1/40\n",
      "3/3 [==============================] - 9s 2s/step - loss: 1.4715 - accuracy: 0.2000 - val_loss: 1.3858 - val_accuracy: 0.2000\n",
      "Epoch 2/40\n",
      "3/3 [==============================] - 7s 2s/step - loss: 1.3868 - accuracy: 0.2625 - val_loss: 1.3882 - val_accuracy: 0.2500\n",
      "Epoch 3/40\n",
      "3/3 [==============================] - 7s 2s/step - loss: 1.3894 - accuracy: 0.2125 - val_loss: 1.3806 - val_accuracy: 0.2500\n",
      "Epoch 4/40\n",
      "3/3 [==============================] - 7s 2s/step - loss: 1.3699 - accuracy: 0.2625 - val_loss: 1.3862 - val_accuracy: 0.3000\n",
      "Epoch 5/40\n",
      "3/3 [==============================] - 7s 3s/step - loss: 1.3655 - accuracy: 0.3250 - val_loss: 1.3773 - val_accuracy: 0.3500\n",
      "Epoch 6/40\n",
      "3/3 [==============================] - 7s 2s/step - loss: 1.3496 - accuracy: 0.3375 - val_loss: 1.3585 - val_accuracy: 0.3000\n",
      "Epoch 7/40\n",
      "3/3 [==============================] - 7s 2s/step - loss: 1.3180 - accuracy: 0.4375 - val_loss: 1.3269 - val_accuracy: 0.4000\n",
      "Epoch 8/40\n",
      "3/3 [==============================] - 7s 2s/step - loss: 1.3264 - accuracy: 0.4000 - val_loss: 1.3476 - val_accuracy: 0.3000\n",
      "Epoch 9/40\n",
      "3/3 [==============================] - 7s 2s/step - loss: 1.3577 - accuracy: 0.2625 - val_loss: 1.3501 - val_accuracy: 0.3500\n",
      "Epoch 10/40\n",
      "3/3 [==============================] - 7s 2s/step - loss: 1.2734 - accuracy: 0.3750 - val_loss: 1.2975 - val_accuracy: 0.3500\n",
      "Epoch 11/40\n",
      "3/3 [==============================] - 7s 3s/step - loss: 1.2819 - accuracy: 0.4250 - val_loss: 1.3008 - val_accuracy: 0.3000\n",
      "Epoch 12/40\n",
      "3/3 [==============================] - 7s 2s/step - loss: 1.2452 - accuracy: 0.5000 - val_loss: 1.2933 - val_accuracy: 0.4000\n",
      "Epoch 13/40\n",
      "3/3 [==============================] - 7s 2s/step - loss: 1.2723 - accuracy: 0.3750 - val_loss: 1.2803 - val_accuracy: 0.5000\n",
      "Epoch 14/40\n",
      "3/3 [==============================] - 7s 2s/step - loss: 1.1728 - accuracy: 0.4375 - val_loss: 1.2812 - val_accuracy: 0.4500\n",
      "Epoch 15/40\n",
      "3/3 [==============================] - 7s 2s/step - loss: 1.1630 - accuracy: 0.5375 - val_loss: 1.3720 - val_accuracy: 0.3500\n",
      "Epoch 16/40\n",
      "3/3 [==============================] - 8s 2s/step - loss: 1.1364 - accuracy: 0.5000 - val_loss: 1.3068 - val_accuracy: 0.2500\n",
      "Epoch 17/40\n",
      "3/3 [==============================] - 7s 2s/step - loss: 1.0640 - accuracy: 0.5250 - val_loss: 1.3275 - val_accuracy: 0.4000\n",
      "Epoch 18/40\n",
      "3/3 [==============================] - 7s 2s/step - loss: 1.0604 - accuracy: 0.6000 - val_loss: 1.3117 - val_accuracy: 0.3500\n",
      "Epoch 19/40\n",
      "3/3 [==============================] - 7s 3s/step - loss: 0.9560 - accuracy: 0.6750 - val_loss: 1.3337 - val_accuracy: 0.3500\n",
      "Epoch 20/40\n",
      "3/3 [==============================] - 7s 2s/step - loss: 0.8443 - accuracy: 0.6875 - val_loss: 1.4642 - val_accuracy: 0.3500\n",
      "Epoch 21/40\n",
      "3/3 [==============================] - 7s 3s/step - loss: 0.8674 - accuracy: 0.6000 - val_loss: 1.5376 - val_accuracy: 0.3500\n",
      "Epoch 22/40\n",
      "3/3 [==============================] - 7s 3s/step - loss: 0.7922 - accuracy: 0.6750 - val_loss: 1.6503 - val_accuracy: 0.2500\n",
      "Epoch 23/40\n",
      "3/3 [==============================] - 7s 2s/step - loss: 0.7136 - accuracy: 0.7500 - val_loss: 1.6204 - val_accuracy: 0.3500\n",
      "Epoch 24/40\n",
      "3/3 [==============================] - 7s 2s/step - loss: 0.5883 - accuracy: 0.8375 - val_loss: 1.7535 - val_accuracy: 0.3500\n",
      "Epoch 25/40\n",
      "3/3 [==============================] - 7s 3s/step - loss: 0.6330 - accuracy: 0.7625 - val_loss: 1.9781 - val_accuracy: 0.2500\n",
      "Epoch 26/40\n",
      "3/3 [==============================] - 7s 2s/step - loss: 0.5125 - accuracy: 0.8000 - val_loss: 1.9687 - val_accuracy: 0.3000\n",
      "Epoch 27/40\n",
      "3/3 [==============================] - 8s 2s/step - loss: 0.5531 - accuracy: 0.7875 - val_loss: 2.1262 - val_accuracy: 0.4000\n",
      "Epoch 28/40\n",
      "3/3 [==============================] - 7s 2s/step - loss: 0.5331 - accuracy: 0.7875 - val_loss: 1.9616 - val_accuracy: 0.3000\n",
      "Epoch 29/40\n",
      "3/3 [==============================] - 8s 2s/step - loss: 0.4289 - accuracy: 0.8750 - val_loss: 2.0261 - val_accuracy: 0.3500\n",
      "Epoch 30/40\n",
      "3/3 [==============================] - 7s 2s/step - loss: 0.4223 - accuracy: 0.8750 - val_loss: 2.3171 - val_accuracy: 0.4500\n",
      "Epoch 31/40\n",
      "3/3 [==============================] - 7s 3s/step - loss: 0.3721 - accuracy: 0.8625 - val_loss: 2.2913 - val_accuracy: 0.3500\n",
      "Epoch 32/40\n",
      "3/3 [==============================] - 7s 2s/step - loss: 0.3175 - accuracy: 0.9000 - val_loss: 2.6490 - val_accuracy: 0.3500\n",
      "Epoch 33/40\n",
      "3/3 [==============================] - 7s 2s/step - loss: 0.3245 - accuracy: 0.9250 - val_loss: 2.3762 - val_accuracy: 0.2000\n",
      "Epoch 34/40\n",
      "3/3 [==============================] - 7s 2s/step - loss: 0.2969 - accuracy: 0.9125 - val_loss: 2.6341 - val_accuracy: 0.3000\n",
      "Epoch 35/40\n",
      "3/3 [==============================] - 7s 2s/step - loss: 0.4374 - accuracy: 0.8250 - val_loss: 2.3575 - val_accuracy: 0.4500\n",
      "Epoch 36/40\n",
      "3/3 [==============================] - 7s 2s/step - loss: 0.3733 - accuracy: 0.8250 - val_loss: 2.4802 - val_accuracy: 0.3000\n",
      "Epoch 37/40\n",
      "3/3 [==============================] - 7s 2s/step - loss: 0.2731 - accuracy: 0.9000 - val_loss: 2.0544 - val_accuracy: 0.3000\n",
      "Epoch 38/40\n",
      "3/3 [==============================] - 7s 2s/step - loss: 0.2455 - accuracy: 0.9000 - val_loss: 2.1388 - val_accuracy: 0.3500\n",
      "Epoch 39/40\n",
      "3/3 [==============================] - 7s 3s/step - loss: 0.2006 - accuracy: 0.9250 - val_loss: 2.4042 - val_accuracy: 0.3000\n",
      "Epoch 40/40\n",
      "3/3 [==============================] - 7s 3s/step - loss: 0.1575 - accuracy: 0.9875 - val_loss: 2.4627 - val_accuracy: 0.3500\n"
     ]
    },
    {
     "data": {
      "text/plain": [
       "<keras.callbacks.History at 0x7ff45b76ed30>"
      ]
     },
     "execution_count": 27,
     "metadata": {},
     "output_type": "execute_result"
    }
   ],
   "source": [
    "cnn.fit(x = training_set, validation_data = test_set, epochs = 40)"
   ]
  },
  {
   "cell_type": "markdown",
   "metadata": {},
   "source": [
    "# Matriz de confusão"
   ]
  },
  {
   "cell_type": "code",
   "execution_count": null,
   "metadata": {},
   "outputs": [],
   "source": [
    "#!pip install sklearn\n",
    "#!pip install matplotlib"
   ]
  },
  {
   "cell_type": "code",
   "execution_count": 28,
   "metadata": {},
   "outputs": [
    {
     "name": "stderr",
     "output_type": "stream",
     "text": [
      "/home/rafaella/.local/lib/python3.8/site-packages/keras/engine/training.py:2035: UserWarning: `Model.predict_generator` is deprecated and will be removed in a future version. Please use `Model.predict`, which supports generators.\n",
      "  warnings.warn('`Model.predict_generator` is deprecated and '\n"
     ]
    },
    {
     "data": {
      "image/png": "[encoded data removed]",
      "text/plain": [
       "<Figure size 432x288 with 2 Axes>"
      ]
     },
     "metadata": {
      "needs_background": "light"
     },
     "output_type": "display_data"
    }
   ],
   "source": [
    "from sklearn.metrics import ConfusionMatrixDisplay\n",
    "from sklearn.metrics import confusion_matrix\n",
    "import matplotlib.pyplot as plt\n",
    "import numpy as np\n",
    "\n",
    "\n",
    "Y_pred = cnn.predict_generator(test_set)\n",
    "y_pred = np.argmax(Y_pred, axis=1)\n",
    "target_names = [\"anger\", \"fear\", \"happiness\", \"sadness\"]\n",
    "\n",
    "cm = confusion_matrix(test_set.classes, y_pred)\n",
    "\n",
    "disp = ConfusionMatrixDisplay(confusion_matrix=cm, display_labels=target_names)\n",
    "\n",
    "disp.plot(cmap=plt.cm.Blues)\n",
    "plt.show()"
   ]
  },
  {
   "cell_type": "markdown",
   "metadata": {
    "colab_type": "text",
    "id": "U3PZasO0006Z"
   },
   "source": [
    "## Part 4 - Making a single prediction"
   ]
  },
  {
   "cell_type": "code",
   "execution_count": 29,
   "metadata": {
    "colab": {},
    "colab_type": "code",
    "id": "gsSiWEJY1BPB"
   },
   "outputs": [],
   "source": [
    "import numpy as np\n",
    "from keras.preprocessing import image\n",
    "percent = 0.8\n",
    "emotions = {0: 'anger', 1: 'fear', 2: 'happiness', 3: 'sadness'}\n",
    "test_image = image.load_img('img/single_prediction/raiva.jpg', target_size = (64, 64))\n",
    "test_image = image.img_to_array(test_image)\n",
    "test_image = np.expand_dims(test_image, axis = 0)\n",
    "result = cnn.predict(test_image)\n",
    "training_set.class_indices\n",
    "max_value = max(result[0]) \n",
    "max_index = np.where(result[0] == max_value)\n",
    "if max_value > percent:\n",
    "    prediction = emotions[max_index[0][0]]\n",
    "else:\n",
    "    prediction = 'Não identificado'"
   ]
  },
  {
   "cell_type": "code",
   "execution_count": 30,
   "metadata": {
    "colab": {},
    "colab_type": "code",
    "id": "ED9KB3I54c1i"
   },
   "outputs": [
    {
     "data": {
      "text/plain": [
       "'fear'"
      ]
     },
     "execution_count": 30,
     "metadata": {},
     "output_type": "execute_result"
    }
   ],
   "source": [
    "prediction"
   ]
  },
  {
   "cell_type": "code",
   "execution_count": 31,
   "metadata": {},
   "outputs": [
    {
     "data": {
      "text/plain": [
       "0.99909353"
      ]
     },
     "execution_count": 31,
     "metadata": {},
     "output_type": "execute_result"
    }
   ],
   "source": [
    "max_value"
   ]
  },
  {
   "cell_type": "markdown",
   "metadata": {},
   "source": [
    "## Fim"
   ]
  }
 ],
 "metadata": {
  "colab": {
   "collapsed_sections": [],
   "name": "convolutional_neural_network.ipynb",
   "provenance": [],
   "toc_visible": true
  },
  "kernelspec": {
   "display_name": "Python 3 (ipykernel)",
   "language": "python",
   "name": "python3"
  },
  "language_info": {
   "codemirror_mode": {
    "name": "ipython",
    "version": 3
   },
   "file_extension": ".py",
   "mimetype": "text/x-python",
   "name": "python",
   "nbconvert_exporter": "python",
   "pygments_lexer": "ipython3",
   "version": "3.8.10"
  }
 },
 "nbformat": 4,
 "nbformat_minor": 4
}
