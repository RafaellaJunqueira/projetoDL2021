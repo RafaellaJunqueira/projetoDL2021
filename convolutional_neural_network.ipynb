{
 "cells": [
  {
   "cell_type": "markdown",
   "metadata": {
    "colab_type": "text",
    "id": "3DR-eO17geWu"
   },
   "source": [
    "# Projeto DL 2021 - Grupo Stonks"
   ]
  },
  {
   "cell_type": "code",
   "execution_count": 120,
   "metadata": {},
   "outputs": [
    {
     "name": "stdout",
     "output_type": "stream",
     "text": [
      "Defaulting to user installation because normal site-packages is not writeable\n",
      "Requirement already satisfied: tensorflow in /home/rafaella/.local/lib/python3.8/site-packages (2.6.0)\n",
      "Requirement already satisfied: keras in /home/rafaella/.local/lib/python3.8/site-packages (2.6.0)\n",
      "Requirement already satisfied: Pillow in /home/rafaella/.local/lib/python3.8/site-packages (8.4.0)\n",
      "Requirement already satisfied: wheel~=0.35 in /home/rafaella/.local/lib/python3.8/site-packages (from tensorflow) (0.37.0)\n",
      "Requirement already satisfied: opt-einsum~=3.3.0 in /home/rafaella/.local/lib/python3.8/site-packages (from tensorflow) (3.3.0)\n",
      "Requirement already satisfied: numpy~=1.19.2 in /home/rafaella/.local/lib/python3.8/site-packages (from tensorflow) (1.19.5)\n",
      "Requirement already satisfied: gast==0.4.0 in /home/rafaella/.local/lib/python3.8/site-packages (from tensorflow) (0.4.0)\n",
      "Requirement already satisfied: astunparse~=1.6.3 in /home/rafaella/.local/lib/python3.8/site-packages (from tensorflow) (1.6.3)\n",
      "Requirement already satisfied: termcolor~=1.1.0 in /home/rafaella/.local/lib/python3.8/site-packages (from tensorflow) (1.1.0)\n",
      "Requirement already satisfied: clang~=5.0 in /home/rafaella/.local/lib/python3.8/site-packages (from tensorflow) (5.0)\n",
      "Requirement already satisfied: google-pasta~=0.2 in /home/rafaella/.local/lib/python3.8/site-packages (from tensorflow) (0.2.0)\n",
      "Requirement already satisfied: keras-preprocessing~=1.1.2 in /home/rafaella/.local/lib/python3.8/site-packages (from tensorflow) (1.1.2)\n",
      "Requirement already satisfied: typing-extensions~=3.7.4 in /home/rafaella/.local/lib/python3.8/site-packages (from tensorflow) (3.7.4.3)\n",
      "Requirement already satisfied: h5py~=3.1.0 in /home/rafaella/.local/lib/python3.8/site-packages (from tensorflow) (3.1.0)\n",
      "Requirement already satisfied: protobuf>=3.9.2 in /home/rafaella/.local/lib/python3.8/site-packages (from tensorflow) (3.17.3)\n",
      "Requirement already satisfied: six~=1.15.0 in /home/rafaella/.local/lib/python3.8/site-packages (from tensorflow) (1.15.0)\n",
      "Requirement already satisfied: flatbuffers~=1.12.0 in /home/rafaella/.local/lib/python3.8/site-packages (from tensorflow) (1.12)\n",
      "Requirement already satisfied: wrapt~=1.12.1 in /home/rafaella/.local/lib/python3.8/site-packages (from tensorflow) (1.12.1)\n",
      "Requirement already satisfied: absl-py~=0.10 in /home/rafaella/.local/lib/python3.8/site-packages (from tensorflow) (0.13.0)\n",
      "Requirement already satisfied: tensorflow-estimator~=2.6 in /home/rafaella/.local/lib/python3.8/site-packages (from tensorflow) (2.6.0)\n",
      "Requirement already satisfied: tensorboard~=2.6 in /home/rafaella/.local/lib/python3.8/site-packages (from tensorflow) (2.6.0)\n",
      "Requirement already satisfied: grpcio<2.0,>=1.37.0 in /home/rafaella/.local/lib/python3.8/site-packages (from tensorflow) (1.39.0)\n",
      "Requirement already satisfied: tensorboard-data-server<0.7.0,>=0.6.0 in /home/rafaella/.local/lib/python3.8/site-packages (from tensorboard~=2.6->tensorflow) (0.6.1)\n",
      "Requirement already satisfied: setuptools>=41.0.0 in /usr/lib/python3/dist-packages (from tensorboard~=2.6->tensorflow) (45.2.0)\n",
      "Requirement already satisfied: google-auth-oauthlib<0.5,>=0.4.1 in /home/rafaella/.local/lib/python3.8/site-packages (from tensorboard~=2.6->tensorflow) (0.4.5)\n",
      "Requirement already satisfied: markdown>=2.6.8 in /home/rafaella/.local/lib/python3.8/site-packages (from tensorboard~=2.6->tensorflow) (3.3.4)\n",
      "Requirement already satisfied: werkzeug>=0.11.15 in /home/rafaella/.local/lib/python3.8/site-packages (from tensorboard~=2.6->tensorflow) (2.0.1)\n",
      "Requirement already satisfied: requests<3,>=2.21.0 in /usr/lib/python3/dist-packages (from tensorboard~=2.6->tensorflow) (2.22.0)\n",
      "Requirement already satisfied: google-auth<2,>=1.6.3 in /home/rafaella/.local/lib/python3.8/site-packages (from tensorboard~=2.6->tensorflow) (1.35.0)\n",
      "Requirement already satisfied: tensorboard-plugin-wit>=1.6.0 in /home/rafaella/.local/lib/python3.8/site-packages (from tensorboard~=2.6->tensorflow) (1.8.0)\n",
      "Requirement already satisfied: pyasn1-modules>=0.2.1 in /home/rafaella/.local/lib/python3.8/site-packages (from google-auth<2,>=1.6.3->tensorboard~=2.6->tensorflow) (0.2.8)\n",
      "Requirement already satisfied: cachetools<5.0,>=2.0.0 in /home/rafaella/.local/lib/python3.8/site-packages (from google-auth<2,>=1.6.3->tensorboard~=2.6->tensorflow) (4.2.2)\n",
      "Requirement already satisfied: rsa<5,>=3.1.4 in /home/rafaella/.local/lib/python3.8/site-packages (from google-auth<2,>=1.6.3->tensorboard~=2.6->tensorflow) (4.7.2)\n",
      "Requirement already satisfied: requests-oauthlib>=0.7.0 in /home/rafaella/.local/lib/python3.8/site-packages (from google-auth-oauthlib<0.5,>=0.4.1->tensorboard~=2.6->tensorflow) (1.3.0)\n",
      "Requirement already satisfied: pyasn1<0.5.0,>=0.4.6 in /home/rafaella/.local/lib/python3.8/site-packages (from pyasn1-modules>=0.2.1->google-auth<2,>=1.6.3->tensorboard~=2.6->tensorflow) (0.4.8)\n",
      "Requirement already satisfied: oauthlib>=3.0.0 in /usr/lib/python3/dist-packages (from requests-oauthlib>=0.7.0->google-auth-oauthlib<0.5,>=0.4.1->tensorboard~=2.6->tensorflow) (3.1.0)\n",
      "\u001b[33mWARNING: You are using pip version 21.2.4; however, version 21.3 is available.\n",
      "You should consider upgrading via the '/usr/bin/python3 -m pip install --upgrade pip' command.\u001b[0m\n"
     ]
    }
   ],
   "source": [
    "!pip install --upgrade tensorflow keras Pillow"
   ]
  },
  {
   "cell_type": "code",
   "execution_count": 121,
   "metadata": {
    "colab": {},
    "colab_type": "code",
    "id": "sCV30xyVhFbE"
   },
   "outputs": [],
   "source": [
    "import tensorflow as tf\n",
    "from keras.preprocessing.image import ImageDataGenerator"
   ]
  },
  {
   "cell_type": "code",
   "execution_count": 122,
   "metadata": {
    "colab": {},
    "colab_type": "code",
    "id": "FIleuCAjoFD8"
   },
   "outputs": [
    {
     "data": {
      "text/plain": [
       "'2.6.0'"
      ]
     },
     "execution_count": 122,
     "metadata": {},
     "output_type": "execute_result"
    }
   ],
   "source": [
    "tf.__version__"
   ]
  },
  {
   "cell_type": "markdown",
   "metadata": {
    "colab_type": "text",
    "id": "oxQxCBWyoGPE"
   },
   "source": [
    "## Parte 1 - Processamento dos dados"
   ]
  },
  {
   "cell_type": "markdown",
   "metadata": {
    "colab_type": "text",
    "id": "MvE-heJNo3GG"
   },
   "source": [
    "### Processar o Training set"
   ]
  },
  {
   "cell_type": "code",
   "execution_count": 123,
   "metadata": {
    "colab": {},
    "colab_type": "code",
    "id": "0koUcJMJpEBD"
   },
   "outputs": [
    {
     "name": "stdout",
     "output_type": "stream",
     "text": [
      "Found 80 images belonging to 4 classes.\n"
     ]
    }
   ],
   "source": [
    "train_datagen = ImageDataGenerator(rescale = 1./255,\n",
    "                                   shear_range = 0.2,\n",
    "                                   zoom_range = 0.2,\n",
    "                                   horizontal_flip = True)\n",
    "training_set = train_datagen.flow_from_directory('img/training_set',\n",
    "                                                 target_size = (64, 64),\n",
    "                                                 batch_size = 32,\n",
    "                                                 class_mode = 'categorical')"
   ]
  },
  {
   "cell_type": "markdown",
   "metadata": {
    "colab_type": "text",
    "id": "mrCMmGw9pHys"
   },
   "source": [
    "### Processar o Test set"
   ]
  },
  {
   "cell_type": "code",
   "execution_count": 124,
   "metadata": {
    "colab": {},
    "colab_type": "code",
    "id": "SH4WzfOhpKc3"
   },
   "outputs": [
    {
     "name": "stdout",
     "output_type": "stream",
     "text": [
      "Found 20 images belonging to 4 classes.\n"
     ]
    }
   ],
   "source": [
    "test_datagen = ImageDataGenerator(rescale = 1./255)\n",
    "test_set = test_datagen.flow_from_directory('img/test_set',\n",
    "                                            target_size = (64, 64),\n",
    "                                            batch_size = 32,\n",
    "                                            class_mode = 'categorical')"
   ]
  },
  {
   "cell_type": "markdown",
   "metadata": {
    "colab_type": "text",
    "id": "af8O4l90gk7B"
   },
   "source": [
    "## Parte 2 - Criação do CNN"
   ]
  },
  {
   "cell_type": "code",
   "execution_count": 125,
   "metadata": {},
   "outputs": [],
   "source": [
    "cnn = tf.keras.models.Sequential()"
   ]
  },
  {
   "cell_type": "markdown",
   "metadata": {
    "colab_type": "text",
    "id": "u5YJj_XMl5LF"
   },
   "source": [
    "### Passo 1 - Convolução e agrupamento"
   ]
  },
  {
   "cell_type": "code",
   "execution_count": 126,
   "metadata": {
    "colab": {},
    "colab_type": "code",
    "id": "XPzPrMckl-hV"
   },
   "outputs": [],
   "source": [
    "cnn.add(tf.keras.layers.Conv2D(filters=32, kernel_size=3, activation='relu', input_shape=[64, 64, 3]))"
   ]
  },
  {
   "cell_type": "code",
   "execution_count": 127,
   "metadata": {
    "colab": {},
    "colab_type": "code",
    "id": "ncpqPl69mOac"
   },
   "outputs": [],
   "source": [
    "cnn.add(tf.keras.layers.MaxPool2D(pool_size=2, strides=2))"
   ]
  },
  {
   "cell_type": "markdown",
   "metadata": {
    "colab_type": "text",
    "id": "xaTOgD8rm4mU"
   },
   "source": [
    "### Passo 2 - Adicionar segunda e terceira camada de convolução"
   ]
  },
  {
   "cell_type": "code",
   "execution_count": 128,
   "metadata": {
    "colab": {},
    "colab_type": "code",
    "id": "i_-FZjn_m8gk"
   },
   "outputs": [],
   "source": [
    "cnn.add(tf.keras.layers.Conv2D(filters=32, kernel_size=3, activation='relu'))\n",
    "cnn.add(tf.keras.layers.MaxPool2D(pool_size=2, strides=2))\n",
    "cnn.add(tf.keras.layers.Conv2D(filters=64, kernel_size=3, activation='relu'))\n",
    "cnn.add(tf.keras.layers.MaxPool2D(pool_size=2, strides=2))"
   ]
  },
  {
   "cell_type": "markdown",
   "metadata": {
    "colab_type": "text",
    "id": "tmiEuvTunKfk"
   },
   "source": [
    "### Passo 3 - Redimensionar as camadas"
   ]
  },
  {
   "cell_type": "code",
   "execution_count": 129,
   "metadata": {
    "colab": {},
    "colab_type": "code",
    "id": "6AZeOGCvnNZn"
   },
   "outputs": [],
   "source": [
    "cnn.add(tf.keras.layers.Flatten())"
   ]
  },
  {
   "cell_type": "markdown",
   "metadata": {
    "colab_type": "text",
    "id": "dAoSECOm203v"
   },
   "source": [
    "### Passo 4 - Conectar todas as camadas"
   ]
  },
  {
   "cell_type": "code",
   "execution_count": 130,
   "metadata": {
    "colab": {},
    "colab_type": "code",
    "id": "8GtmUlLd26Nq"
   },
   "outputs": [],
   "source": [
    "cnn.add(tf.keras.layers.Dense(units=128, activation='tanh'))\n",
    "cnn.add(tf.keras.layers.Dropout(0.1))\n",
    "cnn.add(tf.keras.layers.Dense(units=128, activation='tanh'))\n",
    "cnn.add(tf.keras.layers.Dropout(0.1))"
   ]
  },
  {
   "cell_type": "markdown",
   "metadata": {
    "colab_type": "text",
    "id": "yTldFvbX28Na"
   },
   "source": [
    "### Passo 5 - Camadas de saída"
   ]
  },
  {
   "cell_type": "code",
   "execution_count": 131,
   "metadata": {
    "colab": {},
    "colab_type": "code",
    "id": "1p_Zj1Mc3Ko_"
   },
   "outputs": [],
   "source": [
    "cnn.add(tf.keras.layers.Dense(units=4, activation='sigmoid'))"
   ]
  },
  {
   "cell_type": "markdown",
   "metadata": {
    "colab_type": "text",
    "id": "D6XkI90snSDl"
   },
   "source": [
    "## Parte 3 - Treinamento do CNN"
   ]
  },
  {
   "cell_type": "markdown",
   "metadata": {
    "colab_type": "text",
    "id": "vfrFQACEnc6i"
   },
   "source": [
    "### Passo 1 - Compilar o CNN"
   ]
  },
  {
   "cell_type": "code",
   "execution_count": 132,
   "metadata": {
    "colab": {},
    "colab_type": "code",
    "id": "NALksrNQpUlJ"
   },
   "outputs": [],
   "source": [
    "cnn.compile(optimizer = 'adam', loss = 'categorical_crossentropy', metrics = ['accuracy'])"
   ]
  },
  {
   "cell_type": "markdown",
   "metadata": {
    "colab_type": "text",
    "id": "ehS-v3MIpX2h"
   },
   "source": [
    "### Passo 2 - Treinar o CNN no Training set e comparar com o Test set"
   ]
  },
  {
   "cell_type": "code",
   "execution_count": null,
   "metadata": {
    "colab": {},
    "colab_type": "code",
    "id": "XUj1W4PJptta"
   },
   "outputs": [
    {
     "name": "stdout",
     "output_type": "stream",
     "text": [
      "Epoch 1/40\n",
      "3/3 [==============================] - 19s 6s/step - loss: 1.6527 - accuracy: 0.2750 - val_loss: 1.5085 - val_accuracy: 0.3000\n",
      "Epoch 2/40\n",
      "3/3 [==============================] - 17s 5s/step - loss: 1.4891 - accuracy: 0.2875 - val_loss: 1.4354 - val_accuracy: 0.2500\n",
      "Epoch 3/40\n",
      "3/3 [==============================] - 17s 7s/step - loss: 1.3797 - accuracy: 0.3625 - val_loss: 1.3799 - val_accuracy: 0.4000\n",
      "Epoch 4/40\n",
      "3/3 [==============================] - 16s 5s/step - loss: 1.3719 - accuracy: 0.3500 - val_loss: 1.3676 - val_accuracy: 0.2500\n",
      "Epoch 5/40\n",
      "3/3 [==============================] - 17s 5s/step - loss: 1.3845 - accuracy: 0.2750 - val_loss: 1.3623 - val_accuracy: 0.3500\n",
      "Epoch 6/40\n",
      "3/3 [==============================] - 16s 5s/step - loss: 1.3729 - accuracy: 0.2875 - val_loss: 1.3556 - val_accuracy: 0.3000\n",
      "Epoch 7/40\n",
      "3/3 [==============================] - 16s 5s/step - loss: 1.3594 - accuracy: 0.3500 - val_loss: 1.3366 - val_accuracy: 0.3500\n",
      "Epoch 8/40\n",
      "3/3 [==============================] - 16s 4s/step - loss: 1.3371 - accuracy: 0.4125 - val_loss: 1.3256 - val_accuracy: 0.3500\n",
      "Epoch 9/40\n",
      "3/3 [==============================] - 9s 3s/step - loss: 1.3344 - accuracy: 0.4125 - val_loss: 1.3124 - val_accuracy: 0.2500\n",
      "Epoch 10/40\n",
      "3/3 [==============================] - 8s 2s/step - loss: 1.3260 - accuracy: 0.4375 - val_loss: 1.3093 - val_accuracy: 0.4000\n",
      "Epoch 11/40\n",
      "3/3 [==============================] - 9s 3s/step - loss: 1.3055 - accuracy: 0.3500 - val_loss: 1.2957 - val_accuracy: 0.4500\n",
      "Epoch 12/40\n",
      "3/3 [==============================] - 9s 4s/step - loss: 1.3166 - accuracy: 0.4000 - val_loss: 1.2831 - val_accuracy: 0.3000\n",
      "Epoch 13/40\n",
      "3/3 [==============================] - 8s 3s/step - loss: 1.2594 - accuracy: 0.4625 - val_loss: 1.3130 - val_accuracy: 0.3500\n",
      "Epoch 14/40\n",
      "3/3 [==============================] - 9s 3s/step - loss: 1.2430 - accuracy: 0.4125 - val_loss: 1.3040 - val_accuracy: 0.4000\n",
      "Epoch 15/40\n",
      "3/3 [==============================] - 8s 3s/step - loss: 1.2515 - accuracy: 0.4125 - val_loss: 1.4134 - val_accuracy: 0.3500\n",
      "Epoch 16/40\n",
      "3/3 [==============================] - 8s 3s/step - loss: 1.2255 - accuracy: 0.3500 - val_loss: 1.3490 - val_accuracy: 0.3500\n",
      "Epoch 17/40\n",
      "3/3 [==============================] - 8s 3s/step - loss: 1.1688 - accuracy: 0.4375 - val_loss: 1.3844 - val_accuracy: 0.4500\n",
      "Epoch 18/40\n",
      "3/3 [==============================] - 9s 3s/step - loss: 1.1804 - accuracy: 0.4875 - val_loss: 1.3899 - val_accuracy: 0.3000\n",
      "Epoch 19/40\n",
      "3/3 [==============================] - 8s 3s/step - loss: 1.2030 - accuracy: 0.4875 - val_loss: 1.4582 - val_accuracy: 0.3000\n",
      "Epoch 20/40\n",
      "3/3 [==============================] - 9s 3s/step - loss: 1.0738 - accuracy: 0.5625 - val_loss: 1.4016 - val_accuracy: 0.3000\n",
      "Epoch 21/40\n",
      "3/3 [==============================] - 9s 3s/step - loss: 1.0651 - accuracy: 0.5500 - val_loss: 1.5197 - val_accuracy: 0.4500\n",
      "Epoch 22/40\n",
      "3/3 [==============================] - 9s 3s/step - loss: 0.9805 - accuracy: 0.6250 - val_loss: 1.5311 - val_accuracy: 0.4500\n",
      "Epoch 23/40\n",
      "3/3 [==============================] - 9s 3s/step - loss: 0.9063 - accuracy: 0.6375 - val_loss: 1.5888 - val_accuracy: 0.5000\n",
      "Epoch 24/40\n",
      "3/3 [==============================] - 8s 3s/step - loss: 0.8627 - accuracy: 0.7125 - val_loss: 1.7569 - val_accuracy: 0.5500\n",
      "Epoch 25/40\n",
      "3/3 [==============================] - 9s 3s/step - loss: 0.7174 - accuracy: 0.7500 - val_loss: 1.7776 - val_accuracy: 0.3500\n",
      "Epoch 26/40\n",
      "3/3 [==============================] - 9s 4s/step - loss: 0.7981 - accuracy: 0.6500 - val_loss: 1.9414 - val_accuracy: 0.4500\n",
      "Epoch 27/40\n",
      "3/3 [==============================] - 9s 3s/step - loss: 0.6850 - accuracy: 0.7500 - val_loss: 2.1537 - val_accuracy: 0.5500\n",
      "Epoch 28/40\n",
      "3/3 [==============================] - 9s 4s/step - loss: 0.5801 - accuracy: 0.8125 - val_loss: 1.9801 - val_accuracy: 0.3000\n",
      "Epoch 29/40\n",
      "3/3 [==============================] - 9s 3s/step - loss: 0.6012 - accuracy: 0.7875 - val_loss: 2.1175 - val_accuracy: 0.4000\n",
      "Epoch 30/40\n",
      "3/3 [==============================] - 8s 3s/step - loss: 0.5306 - accuracy: 0.7500 - val_loss: 2.2184 - val_accuracy: 0.4000\n",
      "Epoch 31/40\n",
      "3/3 [==============================] - 8s 3s/step - loss: 0.3795 - accuracy: 0.8500 - val_loss: 2.2446 - val_accuracy: 0.4000\n",
      "Epoch 32/40\n",
      "3/3 [==============================] - 8s 3s/step - loss: 0.3274 - accuracy: 0.8875 - val_loss: 2.2730 - val_accuracy: 0.4500\n",
      "Epoch 33/40\n",
      "3/3 [==============================] - 8s 2s/step - loss: 0.4423 - accuracy: 0.8125 - val_loss: 2.7648 - val_accuracy: 0.3000\n",
      "Epoch 34/40\n",
      "3/3 [==============================] - 8s 3s/step - loss: 0.5111 - accuracy: 0.8250 - val_loss: 2.1244 - val_accuracy: 0.4000\n",
      "Epoch 35/40\n",
      "3/3 [==============================] - 8s 2s/step - loss: 0.4548 - accuracy: 0.8000 - val_loss: 2.0752 - val_accuracy: 0.3500\n",
      "Epoch 36/40\n",
      "3/3 [==============================] - 8s 3s/step - loss: 0.3389 - accuracy: 0.9125 - val_loss: 2.2169 - val_accuracy: 0.4500\n",
      "Epoch 37/40\n",
      "2/3 [===================>..........] - ETA: 1s - loss: 0.3280 - accuracy: 0.8958"
     ]
    }
   ],
   "source": [
    "cnn.fit(x = training_set, validation_data = test_set, epochs = 40)"
   ]
  },
  {
   "cell_type": "markdown",
   "metadata": {},
   "source": [
    "# Matriz de confusão"
   ]
  },
  {
   "cell_type": "code",
   "execution_count": null,
   "metadata": {},
   "outputs": [],
   "source": [
    "from sklearn.metrics import ConfusionMatrixDisplay\n",
    "from sklearn.metrics import confusion_matrix\n",
    "import matplotlib.pyplot as plt\n",
    "import numpy as np\n",
    "\n",
    "\n",
    "Y_pred = cnn.predict_generator(test_set)\n",
    "y_pred = np.argmax(Y_pred, axis=1)\n",
    "target_names = [\"anger\", \"disgust\", \"fear\", \"happiness\", \"sadness\"]\n",
    "\n",
    "cm = confusion_matrix(test_set.classes, y_pred)\n",
    "\n",
    "disp = ConfusionMatrixDisplay(confusion_matrix=cm, display_labels=target_names)\n",
    "\n",
    "disp.plot(cmap=plt.cm.Blues)\n",
    "plt.show()"
   ]
  },
  {
   "cell_type": "markdown",
   "metadata": {
    "colab_type": "text",
    "id": "U3PZasO0006Z"
   },
   "source": [
    "## Part 4 - Making a single prediction"
   ]
  },
  {
   "cell_type": "code",
   "execution_count": null,
   "metadata": {
    "colab": {},
    "colab_type": "code",
    "id": "gsSiWEJY1BPB"
   },
   "outputs": [],
   "source": [
    "import numpy as np\n",
    "from keras.preprocessing import image\n",
    "percent = 0.8\n",
    "emotions = {0: 'anger', 1: 'disgust', 2: 'fear', 3: 'happiness', 4: 'sadness'}\n",
    "test_image = image.load_img('img/single_prediction/raiva.jpg', target_size = (64, 64))\n",
    "test_image = image.img_to_array(test_image)\n",
    "test_image = np.expand_dims(test_image, axis = 0)\n",
    "result = cnn.predict(test_image)\n",
    "training_set.class_indices\n",
    "max_value = max(result[0]) \n",
    "max_index = np.where(result[0] == max_value)\n",
    "if max_value > percent:\n",
    "    prediction = emotions[max_index[0][0]]\n",
    "else:\n",
    "    prediction = 'Não identificado'"
   ]
  },
  {
   "cell_type": "code",
   "execution_count": null,
   "metadata": {
    "colab": {},
    "colab_type": "code",
    "id": "ED9KB3I54c1i"
   },
   "outputs": [],
   "source": [
    "prediction"
   ]
  },
  {
   "cell_type": "code",
   "execution_count": null,
   "metadata": {},
   "outputs": [],
   "source": [
    "max_value"
   ]
  },
  {
   "cell_type": "markdown",
   "metadata": {},
   "source": [
    "## Fim"
   ]
  }
 ],
 "metadata": {
  "colab": {
   "collapsed_sections": [],
   "name": "convolutional_neural_network.ipynb",
   "provenance": [],
   "toc_visible": true
  },
  "kernelspec": {
   "display_name": "Python 3 (ipykernel)",
   "language": "python",
   "name": "python3"
  },
  "language_info": {
   "codemirror_mode": {
    "name": "ipython",
    "version": 3
   },
   "file_extension": ".py",
   "mimetype": "text/x-python",
   "name": "python",
   "nbconvert_exporter": "python",
   "pygments_lexer": "ipython3",
   "version": "3.8.10"
  }
 },
 "nbformat": 4,
 "nbformat_minor": 4
}
