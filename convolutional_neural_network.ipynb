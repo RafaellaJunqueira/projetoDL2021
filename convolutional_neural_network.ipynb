{
 "cells": [
  {
   "cell_type": "markdown",
   "metadata": {
    "colab_type": "text",
    "id": "3DR-eO17geWu"
   },
   "source": [
    "# Projeto DL 2021 - Grupo Stonks"
   ]
  },
  {
   "cell_type": "code",
   "execution_count": 15,
   "metadata": {},
   "outputs": [
    {
     "name": "stdout",
     "output_type": "stream",
     "text": [
      "Defaulting to user installation because normal site-packages is not writeable\n",
      "Requirement already satisfied: tensorflow in /home/iuri/.local/lib/python3.8/site-packages (2.6.0)\n",
      "Requirement already satisfied: keras in /home/iuri/.local/lib/python3.8/site-packages (2.6.0)\n",
      "Requirement already satisfied: Pillow in /home/iuri/.local/lib/python3.8/site-packages (8.4.0)\n",
      "Requirement already satisfied: flatbuffers~=1.12.0 in /home/iuri/.local/lib/python3.8/site-packages (from tensorflow) (1.12)\n",
      "Requirement already satisfied: wrapt~=1.12.1 in /opt/anaconda/lib/python3.8/site-packages (from tensorflow) (1.12.1)\n",
      "Requirement already satisfied: gast==0.4.0 in /home/iuri/.local/lib/python3.8/site-packages (from tensorflow) (0.4.0)\n",
      "Requirement already satisfied: absl-py~=0.10 in /home/iuri/.local/lib/python3.8/site-packages (from tensorflow) (0.15.0)\n",
      "Requirement already satisfied: protobuf>=3.9.2 in /home/iuri/.local/lib/python3.8/site-packages (from tensorflow) (3.19.0)\n",
      "Requirement already satisfied: wheel~=0.35 in /opt/anaconda/lib/python3.8/site-packages (from tensorflow) (0.36.2)\n",
      "Requirement already satisfied: numpy~=1.19.2 in /home/iuri/.local/lib/python3.8/site-packages (from tensorflow) (1.19.5)\n",
      "Requirement already satisfied: clang~=5.0 in /home/iuri/.local/lib/python3.8/site-packages (from tensorflow) (5.0)\n",
      "Requirement already satisfied: grpcio<2.0,>=1.37.0 in /home/iuri/.local/lib/python3.8/site-packages (from tensorflow) (1.41.0)\n",
      "Requirement already satisfied: google-pasta~=0.2 in /home/iuri/.local/lib/python3.8/site-packages (from tensorflow) (0.2.0)\n",
      "Requirement already satisfied: termcolor~=1.1.0 in /home/iuri/.local/lib/python3.8/site-packages (from tensorflow) (1.1.0)\n",
      "Requirement already satisfied: h5py~=3.1.0 in /home/iuri/.local/lib/python3.8/site-packages (from tensorflow) (3.1.0)\n",
      "Requirement already satisfied: typing-extensions~=3.7.4 in /opt/anaconda/lib/python3.8/site-packages (from tensorflow) (3.7.4.3)\n",
      "Requirement already satisfied: keras-preprocessing~=1.1.2 in /home/iuri/.local/lib/python3.8/site-packages (from tensorflow) (1.1.2)\n",
      "Requirement already satisfied: six~=1.15.0 in /opt/anaconda/lib/python3.8/site-packages (from tensorflow) (1.15.0)\n",
      "Requirement already satisfied: tensorflow-estimator~=2.6 in /home/iuri/.local/lib/python3.8/site-packages (from tensorflow) (2.6.0)\n",
      "Requirement already satisfied: tensorboard~=2.6 in /home/iuri/.local/lib/python3.8/site-packages (from tensorflow) (2.7.0)\n",
      "Requirement already satisfied: opt-einsum~=3.3.0 in /home/iuri/.local/lib/python3.8/site-packages (from tensorflow) (3.3.0)\n",
      "Requirement already satisfied: astunparse~=1.6.3 in /home/iuri/.local/lib/python3.8/site-packages (from tensorflow) (1.6.3)\n",
      "Requirement already satisfied: google-auth-oauthlib<0.5,>=0.4.1 in /home/iuri/.local/lib/python3.8/site-packages (from tensorboard~=2.6->tensorflow) (0.4.6)\n",
      "Requirement already satisfied: tensorboard-plugin-wit>=1.6.0 in /home/iuri/.local/lib/python3.8/site-packages (from tensorboard~=2.6->tensorflow) (1.8.0)\n",
      "Requirement already satisfied: setuptools>=41.0.0 in /opt/anaconda/lib/python3.8/site-packages (from tensorboard~=2.6->tensorflow) (52.0.0.post20210125)\n",
      "Requirement already satisfied: markdown>=2.6.8 in /home/iuri/.local/lib/python3.8/site-packages (from tensorboard~=2.6->tensorflow) (3.3.4)\n",
      "Requirement already satisfied: werkzeug>=0.11.15 in /opt/anaconda/lib/python3.8/site-packages (from tensorboard~=2.6->tensorflow) (1.0.1)\n",
      "Requirement already satisfied: google-auth<3,>=1.6.3 in /home/iuri/.local/lib/python3.8/site-packages (from tensorboard~=2.6->tensorflow) (2.3.0)\n",
      "Requirement already satisfied: requests<3,>=2.21.0 in /opt/anaconda/lib/python3.8/site-packages (from tensorboard~=2.6->tensorflow) (2.25.1)\n",
      "Requirement already satisfied: tensorboard-data-server<0.7.0,>=0.6.0 in /home/iuri/.local/lib/python3.8/site-packages (from tensorboard~=2.6->tensorflow) (0.6.1)\n",
      "Requirement already satisfied: rsa<5,>=3.1.4 in /home/iuri/.local/lib/python3.8/site-packages (from google-auth<3,>=1.6.3->tensorboard~=2.6->tensorflow) (4.7.2)\n",
      "Requirement already satisfied: cachetools<5.0,>=2.0.0 in /home/iuri/.local/lib/python3.8/site-packages (from google-auth<3,>=1.6.3->tensorboard~=2.6->tensorflow) (4.2.4)\n",
      "Requirement already satisfied: pyasn1-modules>=0.2.1 in /home/iuri/.local/lib/python3.8/site-packages (from google-auth<3,>=1.6.3->tensorboard~=2.6->tensorflow) (0.2.8)\n",
      "Requirement already satisfied: requests-oauthlib>=0.7.0 in /home/iuri/.local/lib/python3.8/site-packages (from google-auth-oauthlib<0.5,>=0.4.1->tensorboard~=2.6->tensorflow) (1.3.0)\n",
      "Requirement already satisfied: pyasn1<0.5.0,>=0.4.6 in /home/iuri/.local/lib/python3.8/site-packages (from pyasn1-modules>=0.2.1->google-auth<3,>=1.6.3->tensorboard~=2.6->tensorflow) (0.4.8)\n",
      "Requirement already satisfied: idna<3,>=2.5 in /opt/anaconda/lib/python3.8/site-packages (from requests<3,>=2.21.0->tensorboard~=2.6->tensorflow) (2.10)\n",
      "Requirement already satisfied: chardet<5,>=3.0.2 in /opt/anaconda/lib/python3.8/site-packages (from requests<3,>=2.21.0->tensorboard~=2.6->tensorflow) (4.0.0)\n",
      "Requirement already satisfied: certifi>=2017.4.17 in /opt/anaconda/lib/python3.8/site-packages (from requests<3,>=2.21.0->tensorboard~=2.6->tensorflow) (2020.12.5)\n",
      "Requirement already satisfied: urllib3<1.27,>=1.21.1 in /opt/anaconda/lib/python3.8/site-packages (from requests<3,>=2.21.0->tensorboard~=2.6->tensorflow) (1.26.4)\n",
      "Requirement already satisfied: oauthlib>=3.0.0 in /home/iuri/.local/lib/python3.8/site-packages (from requests-oauthlib>=0.7.0->google-auth-oauthlib<0.5,>=0.4.1->tensorboard~=2.6->tensorflow) (3.1.1)\n"
     ]
    }
   ],
   "source": [
    "!pip install --upgrade tensorflow keras Pillow"
   ]
  },
  {
   "cell_type": "code",
   "execution_count": 16,
   "metadata": {
    "colab": {},
    "colab_type": "code",
    "id": "sCV30xyVhFbE"
   },
   "outputs": [],
   "source": [
    "import tensorflow as tf\n",
    "from keras.preprocessing.image import ImageDataGenerator"
   ]
  },
  {
   "cell_type": "code",
   "execution_count": 17,
   "metadata": {
    "colab": {},
    "colab_type": "code",
    "id": "FIleuCAjoFD8"
   },
   "outputs": [
    {
     "data": {
      "text/plain": [
       "'2.6.0'"
      ]
     },
     "execution_count": 17,
     "metadata": {},
     "output_type": "execute_result"
    }
   ],
   "source": [
    "tf.__version__"
   ]
  },
  {
   "cell_type": "markdown",
   "metadata": {
    "colab_type": "text",
    "id": "oxQxCBWyoGPE"
   },
   "source": [
    "## Part 1 - Data Preprocessing"
   ]
  },
  {
   "cell_type": "markdown",
   "metadata": {
    "colab_type": "text",
    "id": "MvE-heJNo3GG"
   },
   "source": [
    "### Preprocessing the Training set"
   ]
  },
  {
   "cell_type": "code",
   "execution_count": 18,
   "metadata": {
    "colab": {},
    "colab_type": "code",
    "id": "0koUcJMJpEBD"
   },
   "outputs": [
    {
     "name": "stdout",
     "output_type": "stream",
     "text": [
      "Found 120 images belonging to 6 classes.\n"
     ]
    }
   ],
   "source": [
    "train_datagen = ImageDataGenerator(rescale = 1./255,\n",
    "                                   shear_range = 0.2,\n",
    "                                   zoom_range = 0.2,\n",
    "                                   horizontal_flip = True)\n",
    "training_set = train_datagen.flow_from_directory('img/training_set',\n",
    "                                                 target_size = (64, 64),\n",
    "                                                 batch_size = 32,\n",
    "                                                 class_mode = 'categorical')"
   ]
  },
  {
   "cell_type": "markdown",
   "metadata": {
    "colab_type": "text",
    "id": "mrCMmGw9pHys"
   },
   "source": [
    "### Preprocessing the Test set"
   ]
  },
  {
   "cell_type": "code",
   "execution_count": 19,
   "metadata": {
    "colab": {},
    "colab_type": "code",
    "id": "SH4WzfOhpKc3"
   },
   "outputs": [
    {
     "name": "stdout",
     "output_type": "stream",
     "text": [
      "Found 30 images belonging to 6 classes.\n"
     ]
    }
   ],
   "source": [
    "test_datagen = ImageDataGenerator(rescale = 1./255)\n",
    "test_set = test_datagen.flow_from_directory('img/test_set',\n",
    "                                            target_size = (64, 64),\n",
    "                                            batch_size = 32,\n",
    "                                            class_mode = 'categorical')"
   ]
  },
  {
   "cell_type": "markdown",
   "metadata": {
    "colab_type": "text",
    "id": "af8O4l90gk7B"
   },
   "source": [
    "## Part 2 - Building the CNN"
   ]
  },
  {
   "cell_type": "code",
   "execution_count": 20,
   "metadata": {},
   "outputs": [],
   "source": [
    "cnn = tf.keras.models.Sequential()"
   ]
  },
  {
   "cell_type": "markdown",
   "metadata": {
    "colab_type": "text",
    "id": "u5YJj_XMl5LF"
   },
   "source": [
    "### Step 1 - Convolution"
   ]
  },
  {
   "cell_type": "code",
   "execution_count": 21,
   "metadata": {
    "colab": {},
    "colab_type": "code",
    "id": "XPzPrMckl-hV"
   },
   "outputs": [],
   "source": [
    "cnn.add(tf.keras.layers.Conv2D(filters=32, kernel_size=3, activation='relu', input_shape=[64, 64, 3]))"
   ]
  },
  {
   "cell_type": "markdown",
   "metadata": {
    "colab_type": "text",
    "id": "tf87FpvxmNOJ"
   },
   "source": [
    "### Step 2 - Pooling"
   ]
  },
  {
   "cell_type": "code",
   "execution_count": 22,
   "metadata": {
    "colab": {},
    "colab_type": "code",
    "id": "ncpqPl69mOac"
   },
   "outputs": [],
   "source": [
    "cnn.add(tf.keras.layers.MaxPool2D(pool_size=2, strides=2))"
   ]
  },
  {
   "cell_type": "markdown",
   "metadata": {
    "colab_type": "text",
    "id": "xaTOgD8rm4mU"
   },
   "source": [
    "### Adding a second convolutional layer"
   ]
  },
  {
   "cell_type": "code",
   "execution_count": 23,
   "metadata": {
    "colab": {},
    "colab_type": "code",
    "id": "i_-FZjn_m8gk"
   },
   "outputs": [],
   "source": [
    "cnn.add(tf.keras.layers.Conv2D(filters=32, kernel_size=3, activation='relu'))\n",
    "cnn.add(tf.keras.layers.MaxPool2D(pool_size=2, strides=2))\n",
    "cnn.add(tf.keras.layers.Conv2D(filters=64, kernel_size=3, activation='relu'))\n",
    "cnn.add(tf.keras.layers.MaxPool2D(pool_size=2, strides=2))"
   ]
  },
  {
   "cell_type": "markdown",
   "metadata": {
    "colab_type": "text",
    "id": "tmiEuvTunKfk"
   },
   "source": [
    "### Step 3 - Flattening"
   ]
  },
  {
   "cell_type": "code",
   "execution_count": 24,
   "metadata": {
    "colab": {},
    "colab_type": "code",
    "id": "6AZeOGCvnNZn"
   },
   "outputs": [],
   "source": [
    "cnn.add(tf.keras.layers.Flatten())"
   ]
  },
  {
   "cell_type": "markdown",
   "metadata": {
    "colab_type": "text",
    "id": "dAoSECOm203v"
   },
   "source": [
    "### Step 4 - Full Connection"
   ]
  },
  {
   "cell_type": "code",
   "execution_count": 25,
   "metadata": {
    "colab": {},
    "colab_type": "code",
    "id": "8GtmUlLd26Nq"
   },
   "outputs": [],
   "source": [
    "cnn.add(tf.keras.layers.Dense(units=128, activation='tanh'))\n",
    "cnn.add(tf.keras.layers.Dropout(0.1))\n",
    "cnn.add(tf.keras.layers.Dense(units=128, activation='tanh'))\n",
    "cnn.add(tf.keras.layers.Dropout(0.1))"
   ]
  },
  {
   "cell_type": "markdown",
   "metadata": {
    "colab_type": "text",
    "id": "yTldFvbX28Na"
   },
   "source": [
    "### Step 5 - Output Layer"
   ]
  },
  {
   "cell_type": "code",
   "execution_count": 26,
   "metadata": {
    "colab": {},
    "colab_type": "code",
    "id": "1p_Zj1Mc3Ko_"
   },
   "outputs": [],
   "source": [
    "cnn.add(tf.keras.layers.Dense(units=6, activation='sigmoid'))"
   ]
  },
  {
   "cell_type": "markdown",
   "metadata": {
    "colab_type": "text",
    "id": "D6XkI90snSDl"
   },
   "source": [
    "## Part 3 - Training the CNN"
   ]
  },
  {
   "cell_type": "markdown",
   "metadata": {
    "colab_type": "text",
    "id": "vfrFQACEnc6i"
   },
   "source": [
    "### Compiling the CNN"
   ]
  },
  {
   "cell_type": "code",
   "execution_count": 27,
   "metadata": {
    "colab": {},
    "colab_type": "code",
    "id": "NALksrNQpUlJ"
   },
   "outputs": [],
   "source": [
    "cnn.compile(optimizer = 'adam', loss = 'categorical_crossentropy', metrics = ['accuracy'])"
   ]
  },
  {
   "cell_type": "markdown",
   "metadata": {
    "colab_type": "text",
    "id": "ehS-v3MIpX2h"
   },
   "source": [
    "### Training the CNN on the Training set and evaluating it on the Test set"
   ]
  },
  {
   "cell_type": "code",
   "execution_count": 28,
   "metadata": {
    "colab": {},
    "colab_type": "code",
    "id": "XUj1W4PJptta"
   },
   "outputs": [
    {
     "name": "stdout",
     "output_type": "stream",
     "text": [
      "Epoch 1/40\n",
      "4/4 [==============================] - 17s 4s/step - loss: 1.8817 - accuracy: 0.1583 - val_loss: 1.7994 - val_accuracy: 0.1667\n",
      "Epoch 2/40\n",
      "4/4 [==============================] - 14s 4s/step - loss: 1.7943 - accuracy: 0.1750 - val_loss: 1.8032 - val_accuracy: 0.1667\n",
      "Epoch 3/40\n",
      "4/4 [==============================] - 15s 3s/step - loss: 1.7908 - accuracy: 0.1667 - val_loss: 1.7935 - val_accuracy: 0.1667\n",
      "Epoch 4/40\n",
      "4/4 [==============================] - 13s 3s/step - loss: 1.7847 - accuracy: 0.1833 - val_loss: 1.7872 - val_accuracy: 0.2000\n",
      "Epoch 5/40\n",
      "4/4 [==============================] - 16s 4s/step - loss: 1.7781 - accuracy: 0.3167 - val_loss: 1.7852 - val_accuracy: 0.2000\n",
      "Epoch 6/40\n",
      "4/4 [==============================] - 15s 4s/step - loss: 1.7713 - accuracy: 0.2500 - val_loss: 1.7803 - val_accuracy: 0.2000\n",
      "Epoch 7/40\n",
      "4/4 [==============================] - 13s 3s/step - loss: 1.7548 - accuracy: 0.3167 - val_loss: 1.7692 - val_accuracy: 0.2333\n",
      "Epoch 8/40\n",
      "4/4 [==============================] - 16s 5s/step - loss: 1.7614 - accuracy: 0.2500 - val_loss: 1.7482 - val_accuracy: 0.2000\n",
      "Epoch 9/40\n",
      "4/4 [==============================] - 18s 4s/step - loss: 1.7373 - accuracy: 0.2333 - val_loss: 1.7490 - val_accuracy: 0.2000\n",
      "Epoch 10/40\n",
      "4/4 [==============================] - 15s 4s/step - loss: 1.7425 - accuracy: 0.2750 - val_loss: 1.7688 - val_accuracy: 0.2667\n",
      "Epoch 11/40\n",
      "4/4 [==============================] - 11s 3s/step - loss: 1.6863 - accuracy: 0.3500 - val_loss: 1.7370 - val_accuracy: 0.2333\n",
      "Epoch 12/40\n",
      "4/4 [==============================] - 11s 3s/step - loss: 1.6556 - accuracy: 0.3333 - val_loss: 1.7223 - val_accuracy: 0.2333\n",
      "Epoch 13/40\n",
      "4/4 [==============================] - 11s 3s/step - loss: 1.5759 - accuracy: 0.4417 - val_loss: 1.8306 - val_accuracy: 0.2667\n",
      "Epoch 14/40\n",
      "4/4 [==============================] - 11s 3s/step - loss: 1.4960 - accuracy: 0.4667 - val_loss: 1.8457 - val_accuracy: 0.3000\n",
      "Epoch 15/40\n",
      "4/4 [==============================] - 11s 3s/step - loss: 1.4153 - accuracy: 0.4583 - val_loss: 1.8614 - val_accuracy: 0.3333\n",
      "Epoch 16/40\n",
      "4/4 [==============================] - 11s 3s/step - loss: 1.4129 - accuracy: 0.4250 - val_loss: 2.0085 - val_accuracy: 0.2667\n",
      "Epoch 17/40\n",
      "4/4 [==============================] - 11s 3s/step - loss: 1.2737 - accuracy: 0.5333 - val_loss: 2.1719 - val_accuracy: 0.2333\n",
      "Epoch 18/40\n",
      "4/4 [==============================] - 11s 3s/step - loss: 1.2618 - accuracy: 0.4333 - val_loss: 2.0345 - val_accuracy: 0.2667\n",
      "Epoch 19/40\n",
      "4/4 [==============================] - 11s 3s/step - loss: 1.1864 - accuracy: 0.5417 - val_loss: 2.1033 - val_accuracy: 0.2667\n",
      "Epoch 20/40\n",
      "4/4 [==============================] - 11s 3s/step - loss: 1.1404 - accuracy: 0.5333 - val_loss: 2.1619 - val_accuracy: 0.3333\n",
      "Epoch 21/40\n",
      "4/4 [==============================] - 11s 3s/step - loss: 1.1254 - accuracy: 0.5917 - val_loss: 2.1004 - val_accuracy: 0.3000\n",
      "Epoch 22/40\n",
      "4/4 [==============================] - 11s 3s/step - loss: 1.0351 - accuracy: 0.6250 - val_loss: 2.1906 - val_accuracy: 0.3000\n",
      "Epoch 23/40\n",
      "4/4 [==============================] - 11s 3s/step - loss: 0.9971 - accuracy: 0.6333 - val_loss: 2.1654 - val_accuracy: 0.3000\n",
      "Epoch 24/40\n",
      "4/4 [==============================] - 11s 3s/step - loss: 0.9247 - accuracy: 0.6417 - val_loss: 1.9585 - val_accuracy: 0.3333\n",
      "Epoch 25/40\n",
      "4/4 [==============================] - 11s 3s/step - loss: 0.8399 - accuracy: 0.7333 - val_loss: 2.1466 - val_accuracy: 0.3333\n",
      "Epoch 26/40\n",
      "4/4 [==============================] - 11s 3s/step - loss: 0.8060 - accuracy: 0.7000 - val_loss: 2.1428 - val_accuracy: 0.3667\n",
      "Epoch 27/40\n",
      "4/4 [==============================] - 11s 3s/step - loss: 0.7713 - accuracy: 0.6667 - val_loss: 2.1679 - val_accuracy: 0.3000\n",
      "Epoch 28/40\n",
      "4/4 [==============================] - 11s 3s/step - loss: 0.7572 - accuracy: 0.7083 - val_loss: 2.4908 - val_accuracy: 0.4000\n",
      "Epoch 29/40\n",
      "4/4 [==============================] - 11s 3s/step - loss: 0.7215 - accuracy: 0.7500 - val_loss: 2.0829 - val_accuracy: 0.3333\n",
      "Epoch 30/40\n",
      "4/4 [==============================] - 11s 3s/step - loss: 0.5768 - accuracy: 0.8083 - val_loss: 2.2268 - val_accuracy: 0.3667\n",
      "Epoch 31/40\n",
      "4/4 [==============================] - 12s 3s/step - loss: 0.4996 - accuracy: 0.8750 - val_loss: 2.2615 - val_accuracy: 0.4000\n",
      "Epoch 32/40\n",
      "4/4 [==============================] - 11s 3s/step - loss: 0.5209 - accuracy: 0.8167 - val_loss: 2.4614 - val_accuracy: 0.4333\n",
      "Epoch 33/40\n",
      "4/4 [==============================] - 11s 3s/step - loss: 0.5233 - accuracy: 0.7833 - val_loss: 2.3546 - val_accuracy: 0.4333\n",
      "Epoch 34/40\n",
      "4/4 [==============================] - 11s 3s/step - loss: 0.4353 - accuracy: 0.8917 - val_loss: 2.4414 - val_accuracy: 0.3667\n",
      "Epoch 35/40\n",
      "4/4 [==============================] - 11s 3s/step - loss: 0.5182 - accuracy: 0.7917 - val_loss: 2.3249 - val_accuracy: 0.3667\n",
      "Epoch 36/40\n",
      "4/4 [==============================] - 11s 3s/step - loss: 0.3901 - accuracy: 0.9083 - val_loss: 2.3435 - val_accuracy: 0.3667\n",
      "Epoch 37/40\n",
      "4/4 [==============================] - 11s 3s/step - loss: 0.3598 - accuracy: 0.8833 - val_loss: 2.3410 - val_accuracy: 0.5000\n",
      "Epoch 38/40\n",
      "4/4 [==============================] - 11s 3s/step - loss: 0.3398 - accuracy: 0.8833 - val_loss: 2.3697 - val_accuracy: 0.4333\n",
      "Epoch 39/40\n",
      "4/4 [==============================] - 11s 3s/step - loss: 0.2632 - accuracy: 0.9083 - val_loss: 2.5285 - val_accuracy: 0.4000\n",
      "Epoch 40/40\n",
      "4/4 [==============================] - 11s 3s/step - loss: 0.2413 - accuracy: 0.9333 - val_loss: 2.4684 - val_accuracy: 0.4667\n"
     ]
    },
    {
     "data": {
      "text/plain": [
       "<keras.callbacks.History at 0x7f76e9e73100>"
      ]
     },
     "execution_count": 28,
     "metadata": {},
     "output_type": "execute_result"
    }
   ],
   "source": [
    "cnn.fit(x = training_set, validation_data = test_set, epochs = 40)"
   ]
  },
  {
   "cell_type": "markdown",
   "metadata": {
    "colab_type": "text",
    "id": "U3PZasO0006Z"
   },
   "source": [
    "## Part 4 - Making a single prediction"
   ]
  },
  {
   "cell_type": "code",
   "execution_count": 32,
   "metadata": {
    "colab": {},
    "colab_type": "code",
    "id": "gsSiWEJY1BPB"
   },
   "outputs": [],
   "source": [
    "import numpy as np\n",
    "from keras.preprocessing import image\n",
    "percent = 0.8\n",
    "test_image = image.load_img('img/single_prediction/neutro.png', target_size = (64, 64))\n",
    "test_image = image.img_to_array(test_image)\n",
    "test_image = np.expand_dims(test_image, axis = 0)\n",
    "result = cnn.predict(test_image)\n",
    "training_set.class_indices\n",
    "if result[0][0] > percent:\n",
    "    prediction = 'raiva'\n",
    "elif result[0][1] > percent:\n",
    "    prediction = 'nojinho'\n",
    "elif result[0][2] > percent:\n",
    "    prediction = 'medo'\n",
    "elif result[0][3] > percent:\n",
    "    prediction = 'alegria'\n",
    "elif result[0][4] > percent:\n",
    "    prediction = 'neutralidade'\n",
    "elif result[0][5] > percent:\n",
    "    prediction = 'alegria'\n",
    "else:\n",
    "    prediction = 'Iih rapaz...'"
   ]
  },
  {
   "cell_type": "code",
   "execution_count": 33,
   "metadata": {
    "colab": {},
    "colab_type": "code",
    "id": "ED9KB3I54c1i"
   },
   "outputs": [
    {
     "name": "stdout",
     "output_type": "stream",
     "text": [
      "raiva\n"
     ]
    }
   ],
   "source": [
    "print(prediction)"
   ]
  },
  {
   "cell_type": "code",
   "execution_count": 34,
   "metadata": {},
   "outputs": [
    {
     "name": "stdout",
     "output_type": "stream",
     "text": [
      "[[9.9922687e-01 9.0086913e-01 6.5568835e-05 8.0495512e-01 9.3497747e-01\n",
      "  6.0623735e-02]]\n"
     ]
    }
   ],
   "source": [
    "print(result)"
   ]
  },
  {
   "cell_type": "markdown",
   "metadata": {},
   "source": [
    "## Fim"
   ]
  }
 ],
 "metadata": {
  "colab": {
   "collapsed_sections": [],
   "name": "convolutional_neural_network.ipynb",
   "provenance": [],
   "toc_visible": true
  },
  "kernelspec": {
   "display_name": "Python 3 (ipykernel)",
   "language": "python",
   "name": "python3"
  },
  "language_info": {
   "codemirror_mode": {
    "name": "ipython",
    "version": 3
   },
   "file_extension": ".py",
   "mimetype": "text/x-python",
   "name": "python",
   "nbconvert_exporter": "python",
   "pygments_lexer": "ipython3",
   "version": "3.8.8"
  }
 },
 "nbformat": 4,
 "nbformat_minor": 4
}
