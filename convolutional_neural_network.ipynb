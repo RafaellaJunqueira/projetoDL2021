{
 "cells": [
  {
   "cell_type": "markdown",
   "metadata": {
    "colab_type": "text",
    "id": "3DR-eO17geWu"
   },
   "source": [
    "# Projeto DL 2021 - Grupo Stonks"
   ]
  },
  {
   "cell_type": "code",
   "execution_count": 1,
   "metadata": {},
   "outputs": [
    {
     "name": "stdout",
     "output_type": "stream",
     "text": [
      "Defaulting to user installation because normal site-packages is not writeable\n",
      "Requirement already satisfied: tensorflow in /home/rafaella/.local/lib/python3.8/site-packages (2.6.0)\n",
      "Requirement already satisfied: keras in /home/rafaella/.local/lib/python3.8/site-packages (2.6.0)\n",
      "Requirement already satisfied: Pillow in /home/rafaella/.local/lib/python3.8/site-packages (8.4.0)\n",
      "Requirement already satisfied: typing-extensions~=3.7.4 in /home/rafaella/.local/lib/python3.8/site-packages (from tensorflow) (3.7.4.3)\n",
      "Requirement already satisfied: tensorflow-estimator~=2.6 in /home/rafaella/.local/lib/python3.8/site-packages (from tensorflow) (2.6.0)\n",
      "Requirement already satisfied: gast==0.4.0 in /home/rafaella/.local/lib/python3.8/site-packages (from tensorflow) (0.4.0)\n",
      "Requirement already satisfied: numpy~=1.19.2 in /home/rafaella/.local/lib/python3.8/site-packages (from tensorflow) (1.19.5)\n",
      "Requirement already satisfied: wrapt~=1.12.1 in /home/rafaella/.local/lib/python3.8/site-packages (from tensorflow) (1.12.1)\n",
      "Requirement already satisfied: keras-preprocessing~=1.1.2 in /home/rafaella/.local/lib/python3.8/site-packages (from tensorflow) (1.1.2)\n",
      "Requirement already satisfied: opt-einsum~=3.3.0 in /home/rafaella/.local/lib/python3.8/site-packages (from tensorflow) (3.3.0)\n",
      "Requirement already satisfied: protobuf>=3.9.2 in /home/rafaella/.local/lib/python3.8/site-packages (from tensorflow) (3.17.3)\n",
      "Requirement already satisfied: grpcio<2.0,>=1.37.0 in /home/rafaella/.local/lib/python3.8/site-packages (from tensorflow) (1.39.0)\n",
      "Requirement already satisfied: flatbuffers~=1.12.0 in /home/rafaella/.local/lib/python3.8/site-packages (from tensorflow) (1.12)\n",
      "Requirement already satisfied: absl-py~=0.10 in /home/rafaella/.local/lib/python3.8/site-packages (from tensorflow) (0.13.0)\n",
      "Requirement already satisfied: tensorboard~=2.6 in /home/rafaella/.local/lib/python3.8/site-packages (from tensorflow) (2.6.0)\n",
      "Requirement already satisfied: six~=1.15.0 in /home/rafaella/.local/lib/python3.8/site-packages (from tensorflow) (1.15.0)\n",
      "Requirement already satisfied: wheel~=0.35 in /home/rafaella/.local/lib/python3.8/site-packages (from tensorflow) (0.37.0)\n",
      "Requirement already satisfied: h5py~=3.1.0 in /home/rafaella/.local/lib/python3.8/site-packages (from tensorflow) (3.1.0)\n",
      "Requirement already satisfied: clang~=5.0 in /home/rafaella/.local/lib/python3.8/site-packages (from tensorflow) (5.0)\n",
      "Requirement already satisfied: google-pasta~=0.2 in /home/rafaella/.local/lib/python3.8/site-packages (from tensorflow) (0.2.0)\n",
      "Requirement already satisfied: astunparse~=1.6.3 in /home/rafaella/.local/lib/python3.8/site-packages (from tensorflow) (1.6.3)\n",
      "Requirement already satisfied: termcolor~=1.1.0 in /home/rafaella/.local/lib/python3.8/site-packages (from tensorflow) (1.1.0)\n",
      "Requirement already satisfied: setuptools>=41.0.0 in /usr/lib/python3/dist-packages (from tensorboard~=2.6->tensorflow) (45.2.0)\n",
      "Requirement already satisfied: requests<3,>=2.21.0 in /usr/lib/python3/dist-packages (from tensorboard~=2.6->tensorflow) (2.22.0)\n",
      "Requirement already satisfied: werkzeug>=0.11.15 in /home/rafaella/.local/lib/python3.8/site-packages (from tensorboard~=2.6->tensorflow) (2.0.1)\n",
      "Requirement already satisfied: tensorboard-data-server<0.7.0,>=0.6.0 in /home/rafaella/.local/lib/python3.8/site-packages (from tensorboard~=2.6->tensorflow) (0.6.1)\n",
      "Requirement already satisfied: markdown>=2.6.8 in /home/rafaella/.local/lib/python3.8/site-packages (from tensorboard~=2.6->tensorflow) (3.3.4)\n",
      "Requirement already satisfied: google-auth-oauthlib<0.5,>=0.4.1 in /home/rafaella/.local/lib/python3.8/site-packages (from tensorboard~=2.6->tensorflow) (0.4.5)\n",
      "Requirement already satisfied: tensorboard-plugin-wit>=1.6.0 in /home/rafaella/.local/lib/python3.8/site-packages (from tensorboard~=2.6->tensorflow) (1.8.0)\n",
      "Requirement already satisfied: google-auth<2,>=1.6.3 in /home/rafaella/.local/lib/python3.8/site-packages (from tensorboard~=2.6->tensorflow) (1.35.0)\n",
      "Requirement already satisfied: pyasn1-modules>=0.2.1 in /home/rafaella/.local/lib/python3.8/site-packages (from google-auth<2,>=1.6.3->tensorboard~=2.6->tensorflow) (0.2.8)\n",
      "Requirement already satisfied: rsa<5,>=3.1.4 in /home/rafaella/.local/lib/python3.8/site-packages (from google-auth<2,>=1.6.3->tensorboard~=2.6->tensorflow) (4.7.2)\n",
      "Requirement already satisfied: cachetools<5.0,>=2.0.0 in /home/rafaella/.local/lib/python3.8/site-packages (from google-auth<2,>=1.6.3->tensorboard~=2.6->tensorflow) (4.2.2)\n",
      "Requirement already satisfied: requests-oauthlib>=0.7.0 in /home/rafaella/.local/lib/python3.8/site-packages (from google-auth-oauthlib<0.5,>=0.4.1->tensorboard~=2.6->tensorflow) (1.3.0)\n",
      "Requirement already satisfied: pyasn1<0.5.0,>=0.4.6 in /home/rafaella/.local/lib/python3.8/site-packages (from pyasn1-modules>=0.2.1->google-auth<2,>=1.6.3->tensorboard~=2.6->tensorflow) (0.4.8)\n",
      "Requirement already satisfied: oauthlib>=3.0.0 in /usr/lib/python3/dist-packages (from requests-oauthlib>=0.7.0->google-auth-oauthlib<0.5,>=0.4.1->tensorboard~=2.6->tensorflow) (3.1.0)\n",
      "\u001b[33mWARNING: You are using pip version 21.2.4; however, version 21.3 is available.\n",
      "You should consider upgrading via the '/usr/bin/python3 -m pip install --upgrade pip' command.\u001b[0m\n"
     ]
    }
   ],
   "source": [
    "!pip install --upgrade tensorflow keras Pillow"
   ]
  },
  {
   "cell_type": "code",
   "execution_count": 2,
   "metadata": {
    "colab": {},
    "colab_type": "code",
    "id": "sCV30xyVhFbE"
   },
   "outputs": [
    {
     "name": "stderr",
     "output_type": "stream",
     "text": [
      "2021-10-21 21:52:15.757675: W tensorflow/stream_executor/platform/default/dso_loader.cc:64] Could not load dynamic library 'libcudart.so.11.0'; dlerror: libcudart.so.11.0: cannot open shared object file: No such file or directory\n",
      "2021-10-21 21:52:15.757794: I tensorflow/stream_executor/cuda/cudart_stub.cc:29] Ignore above cudart dlerror if you do not have a GPU set up on your machine.\n"
     ]
    }
   ],
   "source": [
    "import tensorflow as tf\n",
    "from keras.preprocessing.image import ImageDataGenerator"
   ]
  },
  {
   "cell_type": "code",
   "execution_count": 3,
   "metadata": {
    "colab": {},
    "colab_type": "code",
    "id": "FIleuCAjoFD8"
   },
   "outputs": [
    {
     "data": {
      "text/plain": [
       "'2.6.0'"
      ]
     },
     "execution_count": 3,
     "metadata": {},
     "output_type": "execute_result"
    }
   ],
   "source": [
    "tf.__version__"
   ]
  },
  {
   "cell_type": "markdown",
   "metadata": {
    "colab_type": "text",
    "id": "oxQxCBWyoGPE"
   },
   "source": [
    "## Part 1 - Data Preprocessing"
   ]
  },
  {
   "cell_type": "markdown",
   "metadata": {
    "colab_type": "text",
    "id": "MvE-heJNo3GG"
   },
   "source": [
    "### Preprocessing the Training set"
   ]
  },
  {
   "cell_type": "code",
   "execution_count": 4,
   "metadata": {
    "colab": {},
    "colab_type": "code",
    "id": "0koUcJMJpEBD"
   },
   "outputs": [
    {
     "name": "stdout",
     "output_type": "stream",
     "text": [
      "Found 120 images belonging to 6 classes.\n"
     ]
    }
   ],
   "source": [
    "train_datagen = ImageDataGenerator(rescale = 1./255,\n",
    "                                   shear_range = 0.2,\n",
    "                                   zoom_range = 0.2,\n",
    "                                   horizontal_flip = True)\n",
    "training_set = train_datagen.flow_from_directory('img/training_set',\n",
    "                                                 target_size = (64, 64),\n",
    "                                                 batch_size = 32,\n",
    "                                                 class_mode = 'categorical')"
   ]
  },
  {
   "cell_type": "markdown",
   "metadata": {
    "colab_type": "text",
    "id": "mrCMmGw9pHys"
   },
   "source": [
    "### Preprocessing the Test set"
   ]
  },
  {
   "cell_type": "code",
   "execution_count": 5,
   "metadata": {
    "colab": {},
    "colab_type": "code",
    "id": "SH4WzfOhpKc3"
   },
   "outputs": [
    {
     "name": "stdout",
     "output_type": "stream",
     "text": [
      "Found 30 images belonging to 6 classes.\n"
     ]
    }
   ],
   "source": [
    "test_datagen = ImageDataGenerator(rescale = 1./255)\n",
    "test_set = test_datagen.flow_from_directory('img/test_set',\n",
    "                                            target_size = (64, 64),\n",
    "                                            batch_size = 32,\n",
    "                                            class_mode = 'categorical')"
   ]
  },
  {
   "cell_type": "markdown",
   "metadata": {
    "colab_type": "text",
    "id": "af8O4l90gk7B"
   },
   "source": [
    "## Part 2 - Building the CNN"
   ]
  },
  {
   "cell_type": "code",
   "execution_count": 6,
   "metadata": {},
   "outputs": [
    {
     "name": "stderr",
     "output_type": "stream",
     "text": [
      "2021-10-21 21:52:18.540474: W tensorflow/stream_executor/platform/default/dso_loader.cc:64] Could not load dynamic library 'libcuda.so.1'; dlerror: libcuda.so.1: cannot open shared object file: No such file or directory\n",
      "2021-10-21 21:52:18.540523: W tensorflow/stream_executor/cuda/cuda_driver.cc:269] failed call to cuInit: UNKNOWN ERROR (303)\n",
      "2021-10-21 21:52:18.540566: I tensorflow/stream_executor/cuda/cuda_diagnostics.cc:156] kernel driver does not appear to be running on this host (junqueira): /proc/driver/nvidia/version does not exist\n",
      "2021-10-21 21:52:18.541711: I tensorflow/core/platform/cpu_feature_guard.cc:142] This TensorFlow binary is optimized with oneAPI Deep Neural Network Library (oneDNN) to use the following CPU instructions in performance-critical operations:  AVX2 FMA\n",
      "To enable them in other operations, rebuild TensorFlow with the appropriate compiler flags.\n"
     ]
    }
   ],
   "source": [
    "cnn = tf.keras.models.Sequential()"
   ]
  },
  {
   "cell_type": "markdown",
   "metadata": {
    "colab_type": "text",
    "id": "u5YJj_XMl5LF"
   },
   "source": [
    "### Step 1 - Convolution"
   ]
  },
  {
   "cell_type": "code",
   "execution_count": 7,
   "metadata": {
    "colab": {},
    "colab_type": "code",
    "id": "XPzPrMckl-hV"
   },
   "outputs": [],
   "source": [
    "cnn.add(tf.keras.layers.Conv2D(filters=32, kernel_size=3, activation='relu', input_shape=[64, 64, 3]))"
   ]
  },
  {
   "cell_type": "markdown",
   "metadata": {
    "colab_type": "text",
    "id": "tf87FpvxmNOJ"
   },
   "source": [
    "### Step 2 - Pooling"
   ]
  },
  {
   "cell_type": "code",
   "execution_count": 8,
   "metadata": {
    "colab": {},
    "colab_type": "code",
    "id": "ncpqPl69mOac"
   },
   "outputs": [],
   "source": [
    "cnn.add(tf.keras.layers.MaxPool2D(pool_size=2, strides=2))"
   ]
  },
  {
   "cell_type": "markdown",
   "metadata": {
    "colab_type": "text",
    "id": "xaTOgD8rm4mU"
   },
   "source": [
    "### Adding a second convolutional layer"
   ]
  },
  {
   "cell_type": "code",
   "execution_count": 9,
   "metadata": {
    "colab": {},
    "colab_type": "code",
    "id": "i_-FZjn_m8gk"
   },
   "outputs": [],
   "source": [
    "cnn.add(tf.keras.layers.Conv2D(filters=32, kernel_size=3, activation='relu'))\n",
    "cnn.add(tf.keras.layers.MaxPool2D(pool_size=2, strides=2))\n",
    "cnn.add(tf.keras.layers.Conv2D(filters=64, kernel_size=3, activation='relu'))\n",
    "cnn.add(tf.keras.layers.MaxPool2D(pool_size=2, strides=2))"
   ]
  },
  {
   "cell_type": "markdown",
   "metadata": {
    "colab_type": "text",
    "id": "tmiEuvTunKfk"
   },
   "source": [
    "### Step 3 - Flattening"
   ]
  },
  {
   "cell_type": "code",
   "execution_count": 10,
   "metadata": {
    "colab": {},
    "colab_type": "code",
    "id": "6AZeOGCvnNZn"
   },
   "outputs": [],
   "source": [
    "cnn.add(tf.keras.layers.Flatten())"
   ]
  },
  {
   "cell_type": "markdown",
   "metadata": {
    "colab_type": "text",
    "id": "dAoSECOm203v"
   },
   "source": [
    "### Step 4 - Full Connection"
   ]
  },
  {
   "cell_type": "code",
   "execution_count": 11,
   "metadata": {
    "colab": {},
    "colab_type": "code",
    "id": "8GtmUlLd26Nq"
   },
   "outputs": [],
   "source": [
    "cnn.add(tf.keras.layers.Dense(units=128, activation='relu'))\n",
    "cnn.add(tf.keras.layers.Dropout(0.1))\n",
    "cnn.add(tf.keras.layers.Dense(units=128, activation='relu'))\n",
    "cnn.add(tf.keras.layers.Dropout(0.1))"
   ]
  },
  {
   "cell_type": "markdown",
   "metadata": {
    "colab_type": "text",
    "id": "yTldFvbX28Na"
   },
   "source": [
    "### Step 5 - Output Layer"
   ]
  },
  {
   "cell_type": "code",
   "execution_count": 12,
   "metadata": {
    "colab": {},
    "colab_type": "code",
    "id": "1p_Zj1Mc3Ko_"
   },
   "outputs": [],
   "source": [
    "cnn.add(tf.keras.layers.Dense(units=6, activation='sigmoid'))"
   ]
  },
  {
   "cell_type": "markdown",
   "metadata": {
    "colab_type": "text",
    "id": "D6XkI90snSDl"
   },
   "source": [
    "## Part 3 - Training the CNN"
   ]
  },
  {
   "cell_type": "markdown",
   "metadata": {
    "colab_type": "text",
    "id": "vfrFQACEnc6i"
   },
   "source": [
    "### Compiling the CNN"
   ]
  },
  {
   "cell_type": "code",
   "execution_count": 13,
   "metadata": {
    "colab": {},
    "colab_type": "code",
    "id": "NALksrNQpUlJ"
   },
   "outputs": [],
   "source": [
    "cnn.compile(optimizer = 'adam', loss = 'categorical_crossentropy', metrics = ['accuracy'])"
   ]
  },
  {
   "cell_type": "markdown",
   "metadata": {
    "colab_type": "text",
    "id": "ehS-v3MIpX2h"
   },
   "source": [
    "### Training the CNN on the Training set and evaluating it on the Test set"
   ]
  },
  {
   "cell_type": "code",
   "execution_count": 26,
   "metadata": {
    "colab": {},
    "colab_type": "code",
    "id": "XUj1W4PJptta"
   },
   "outputs": [
    {
     "name": "stdout",
     "output_type": "stream",
     "text": [
      "Epoch 1/100\n",
      "4/4 [==============================] - 14s 4s/step - loss: 1.5611 - accuracy: 0.3750 - val_loss: 2.0900 - val_accuracy: 0.1667\n",
      "Epoch 2/100\n",
      "4/4 [==============================] - 14s 4s/step - loss: 1.4858 - accuracy: 0.3917 - val_loss: 2.0888 - val_accuracy: 0.2000\n",
      "Epoch 3/100\n",
      "4/4 [==============================] - 15s 4s/step - loss: 1.5343 - accuracy: 0.3583 - val_loss: 1.9699 - val_accuracy: 0.2333\n",
      "Epoch 4/100\n",
      "4/4 [==============================] - 14s 3s/step - loss: 1.5072 - accuracy: 0.3583 - val_loss: 1.9038 - val_accuracy: 0.3000\n",
      "Epoch 5/100\n",
      "4/4 [==============================] - 11s 3s/step - loss: 1.4292 - accuracy: 0.4333 - val_loss: 2.0754 - val_accuracy: 0.2000\n",
      "Epoch 6/100\n",
      "4/4 [==============================] - 10s 3s/step - loss: 1.3336 - accuracy: 0.4500 - val_loss: 2.2252 - val_accuracy: 0.2333\n",
      "Epoch 7/100\n",
      "4/4 [==============================] - 11s 3s/step - loss: 1.3546 - accuracy: 0.4500 - val_loss: 2.1468 - val_accuracy: 0.2667\n",
      "Epoch 8/100\n",
      "4/4 [==============================] - 11s 3s/step - loss: 1.3433 - accuracy: 0.4833 - val_loss: 2.2773 - val_accuracy: 0.2333\n",
      "Epoch 9/100\n",
      "4/4 [==============================] - 10s 3s/step - loss: 1.3827 - accuracy: 0.4333 - val_loss: 2.3639 - val_accuracy: 0.2333\n",
      "Epoch 10/100\n",
      "4/4 [==============================] - 11s 3s/step - loss: 1.2515 - accuracy: 0.5417 - val_loss: 2.3530 - val_accuracy: 0.3667\n",
      "Epoch 11/100\n",
      "4/4 [==============================] - 11s 3s/step - loss: 1.1979 - accuracy: 0.5417 - val_loss: 2.4357 - val_accuracy: 0.4000\n",
      "Epoch 12/100\n",
      "4/4 [==============================] - 10s 3s/step - loss: 1.1307 - accuracy: 0.5667 - val_loss: 2.8789 - val_accuracy: 0.2000\n",
      "Epoch 13/100\n",
      "4/4 [==============================] - 11s 2s/step - loss: 1.1516 - accuracy: 0.5417 - val_loss: 2.7031 - val_accuracy: 0.4333\n",
      "Epoch 14/100\n",
      "4/4 [==============================] - 10s 3s/step - loss: 1.0976 - accuracy: 0.5917 - val_loss: 2.7122 - val_accuracy: 0.2667\n",
      "Epoch 15/100\n",
      "4/4 [==============================] - 10s 3s/step - loss: 1.0219 - accuracy: 0.6167 - val_loss: 2.8921 - val_accuracy: 0.2333\n",
      "Epoch 16/100\n",
      "4/4 [==============================] - 11s 3s/step - loss: 0.9758 - accuracy: 0.6750 - val_loss: 3.0470 - val_accuracy: 0.2667\n",
      "Epoch 17/100\n",
      "4/4 [==============================] - 10s 3s/step - loss: 0.9174 - accuracy: 0.6167 - val_loss: 3.1045 - val_accuracy: 0.3000\n",
      "Epoch 18/100\n",
      "4/4 [==============================] - 11s 3s/step - loss: 0.9981 - accuracy: 0.6333 - val_loss: 3.0920 - val_accuracy: 0.3667\n",
      "Epoch 19/100\n",
      "4/4 [==============================] - 11s 3s/step - loss: 0.9665 - accuracy: 0.6083 - val_loss: 3.0520 - val_accuracy: 0.3667\n",
      "Epoch 20/100\n",
      "4/4 [==============================] - 11s 3s/step - loss: 0.8764 - accuracy: 0.7167 - val_loss: 3.3131 - val_accuracy: 0.2667\n",
      "Epoch 21/100\n",
      "4/4 [==============================] - 11s 3s/step - loss: 0.8934 - accuracy: 0.6417 - val_loss: 3.2157 - val_accuracy: 0.3000\n",
      "Epoch 22/100\n",
      "4/4 [==============================] - 11s 3s/step - loss: 0.8052 - accuracy: 0.7250 - val_loss: 3.2718 - val_accuracy: 0.3000\n",
      "Epoch 23/100\n",
      "4/4 [==============================] - 10s 3s/step - loss: 0.7283 - accuracy: 0.7500 - val_loss: 3.5476 - val_accuracy: 0.3667\n",
      "Epoch 24/100\n",
      "4/4 [==============================] - 10s 3s/step - loss: 0.6831 - accuracy: 0.7750 - val_loss: 3.9162 - val_accuracy: 0.3333\n",
      "Epoch 25/100\n",
      "4/4 [==============================] - 10s 2s/step - loss: 0.7764 - accuracy: 0.7417 - val_loss: 3.4283 - val_accuracy: 0.4000\n",
      "Epoch 26/100\n",
      "4/4 [==============================] - 10s 3s/step - loss: 0.7172 - accuracy: 0.7083 - val_loss: 3.4413 - val_accuracy: 0.3667\n",
      "Epoch 27/100\n",
      "4/4 [==============================] - 10s 3s/step - loss: 0.7064 - accuracy: 0.7417 - val_loss: 3.2085 - val_accuracy: 0.4000\n",
      "Epoch 28/100\n",
      "4/4 [==============================] - 11s 3s/step - loss: 0.6415 - accuracy: 0.7833 - val_loss: 3.1233 - val_accuracy: 0.3667\n",
      "Epoch 29/100\n",
      "4/4 [==============================] - 11s 2s/step - loss: 0.6281 - accuracy: 0.7583 - val_loss: 3.3449 - val_accuracy: 0.4333\n",
      "Epoch 30/100\n",
      "4/4 [==============================] - 11s 3s/step - loss: 0.5338 - accuracy: 0.8083 - val_loss: 3.5114 - val_accuracy: 0.3667\n",
      "Epoch 31/100\n",
      "4/4 [==============================] - 10s 3s/step - loss: 0.6162 - accuracy: 0.7667 - val_loss: 3.2925 - val_accuracy: 0.3000\n",
      "Epoch 32/100\n",
      "4/4 [==============================] - 11s 3s/step - loss: 0.5939 - accuracy: 0.8333 - val_loss: 3.4554 - val_accuracy: 0.3667\n",
      "Epoch 33/100\n",
      "4/4 [==============================] - 11s 3s/step - loss: 0.5179 - accuracy: 0.8333 - val_loss: 3.5286 - val_accuracy: 0.3000\n",
      "Epoch 34/100\n",
      "4/4 [==============================] - 11s 3s/step - loss: 0.4946 - accuracy: 0.8250 - val_loss: 3.8996 - val_accuracy: 0.4333\n",
      "Epoch 35/100\n",
      "4/4 [==============================] - 10s 3s/step - loss: 0.6558 - accuracy: 0.7583 - val_loss: 3.7356 - val_accuracy: 0.3667\n",
      "Epoch 36/100\n",
      "4/4 [==============================] - 11s 3s/step - loss: 0.5798 - accuracy: 0.7917 - val_loss: 3.3067 - val_accuracy: 0.4333\n",
      "Epoch 37/100\n",
      "4/4 [==============================] - 11s 3s/step - loss: 0.5398 - accuracy: 0.8250 - val_loss: 3.3540 - val_accuracy: 0.3667\n",
      "Epoch 38/100\n",
      "4/4 [==============================] - 10s 3s/step - loss: 0.3855 - accuracy: 0.9083 - val_loss: 3.8494 - val_accuracy: 0.3333\n",
      "Epoch 39/100\n",
      "4/4 [==============================] - 10s 3s/step - loss: 0.4102 - accuracy: 0.8583 - val_loss: 3.7782 - val_accuracy: 0.4333\n",
      "Epoch 40/100\n",
      "4/4 [==============================] - 11s 3s/step - loss: 0.4187 - accuracy: 0.8333 - val_loss: 3.8338 - val_accuracy: 0.4333\n",
      "Epoch 41/100\n",
      "4/4 [==============================] - 11s 3s/step - loss: 0.3075 - accuracy: 0.9167 - val_loss: 4.0200 - val_accuracy: 0.4000\n",
      "Epoch 42/100\n",
      "4/4 [==============================] - 11s 3s/step - loss: 0.2765 - accuracy: 0.8917 - val_loss: 4.1831 - val_accuracy: 0.4333\n",
      "Epoch 43/100\n",
      "4/4 [==============================] - 11s 3s/step - loss: 0.2693 - accuracy: 0.9000 - val_loss: 4.1486 - val_accuracy: 0.3333\n",
      "Epoch 44/100\n",
      "4/4 [==============================] - 11s 3s/step - loss: 0.3192 - accuracy: 0.8833 - val_loss: 4.1585 - val_accuracy: 0.3667\n",
      "Epoch 45/100\n",
      "4/4 [==============================] - 11s 3s/step - loss: 0.2344 - accuracy: 0.9083 - val_loss: 4.1392 - val_accuracy: 0.4000\n",
      "Epoch 46/100\n",
      "4/4 [==============================] - 11s 3s/step - loss: 0.3022 - accuracy: 0.8833 - val_loss: 4.0163 - val_accuracy: 0.4000\n",
      "Epoch 47/100\n",
      "4/4 [==============================] - 11s 3s/step - loss: 0.2370 - accuracy: 0.9333 - val_loss: 3.8319 - val_accuracy: 0.4667\n",
      "Epoch 48/100\n",
      "4/4 [==============================] - 11s 3s/step - loss: 0.2954 - accuracy: 0.8833 - val_loss: 3.9255 - val_accuracy: 0.4000\n",
      "Epoch 49/100\n",
      "4/4 [==============================] - 11s 3s/step - loss: 0.2974 - accuracy: 0.8917 - val_loss: 4.0312 - val_accuracy: 0.4333\n",
      "Epoch 50/100\n",
      "4/4 [==============================] - 12s 3s/step - loss: 0.2088 - accuracy: 0.9417 - val_loss: 4.3559 - val_accuracy: 0.4000\n",
      "Epoch 51/100\n",
      "4/4 [==============================] - 12s 3s/step - loss: 0.3207 - accuracy: 0.8750 - val_loss: 3.8162 - val_accuracy: 0.4000\n",
      "Epoch 52/100\n",
      "4/4 [==============================] - 12s 3s/step - loss: 0.3195 - accuracy: 0.9083 - val_loss: 3.9009 - val_accuracy: 0.4333\n",
      "Epoch 53/100\n",
      "4/4 [==============================] - 12s 3s/step - loss: 0.2893 - accuracy: 0.9083 - val_loss: 3.8435 - val_accuracy: 0.4000\n",
      "Epoch 54/100\n",
      "4/4 [==============================] - 12s 3s/step - loss: 0.2863 - accuracy: 0.9250 - val_loss: 4.0413 - val_accuracy: 0.3667\n",
      "Epoch 55/100\n",
      "4/4 [==============================] - 12s 3s/step - loss: 0.2098 - accuracy: 0.9333 - val_loss: 4.2423 - val_accuracy: 0.4667\n",
      "Epoch 56/100\n",
      "4/4 [==============================] - 12s 3s/step - loss: 0.1508 - accuracy: 0.9583 - val_loss: 4.3053 - val_accuracy: 0.4667\n",
      "Epoch 57/100\n",
      "4/4 [==============================] - 12s 3s/step - loss: 0.2349 - accuracy: 0.9333 - val_loss: 4.7971 - val_accuracy: 0.3333\n",
      "Epoch 58/100\n",
      "4/4 [==============================] - 12s 3s/step - loss: 0.2127 - accuracy: 0.9750 - val_loss: 4.4295 - val_accuracy: 0.4000\n",
      "Epoch 59/100\n"
     ]
    },
    {
     "name": "stdout",
     "output_type": "stream",
     "text": [
      "4/4 [==============================] - 12s 3s/step - loss: 0.2201 - accuracy: 0.9167 - val_loss: 4.0831 - val_accuracy: 0.4333\n",
      "Epoch 60/100\n",
      "4/4 [==============================] - 12s 3s/step - loss: 0.1983 - accuracy: 0.9333 - val_loss: 4.1157 - val_accuracy: 0.4333\n",
      "Epoch 61/100\n",
      "4/4 [==============================] - 12s 3s/step - loss: 0.1754 - accuracy: 0.9583 - val_loss: 4.3159 - val_accuracy: 0.4333\n",
      "Epoch 62/100\n",
      "4/4 [==============================] - 12s 3s/step - loss: 0.1900 - accuracy: 0.9417 - val_loss: 4.5376 - val_accuracy: 0.5000\n",
      "Epoch 63/100\n",
      "4/4 [==============================] - 12s 3s/step - loss: 0.1342 - accuracy: 0.9583 - val_loss: 4.9612 - val_accuracy: 0.4667\n",
      "Epoch 64/100\n",
      "4/4 [==============================] - 12s 3s/step - loss: 0.1412 - accuracy: 0.9583 - val_loss: 5.1165 - val_accuracy: 0.4333\n",
      "Epoch 65/100\n",
      "4/4 [==============================] - 12s 3s/step - loss: 0.1194 - accuracy: 0.9667 - val_loss: 5.0403 - val_accuracy: 0.4333\n",
      "Epoch 66/100\n",
      "4/4 [==============================] - 12s 3s/step - loss: 0.1056 - accuracy: 0.9833 - val_loss: 5.2464 - val_accuracy: 0.4000\n",
      "Epoch 67/100\n",
      "4/4 [==============================] - 12s 3s/step - loss: 0.1472 - accuracy: 0.9167 - val_loss: 5.0091 - val_accuracy: 0.3333\n",
      "Epoch 68/100\n",
      "4/4 [==============================] - 12s 3s/step - loss: 0.1668 - accuracy: 0.9333 - val_loss: 5.1080 - val_accuracy: 0.4000\n",
      "Epoch 69/100\n",
      "4/4 [==============================] - 12s 3s/step - loss: 0.1560 - accuracy: 0.9333 - val_loss: 5.6236 - val_accuracy: 0.4000\n",
      "Epoch 70/100\n",
      "4/4 [==============================] - 12s 3s/step - loss: 0.1707 - accuracy: 0.9500 - val_loss: 5.2264 - val_accuracy: 0.4667\n",
      "Epoch 71/100\n",
      "4/4 [==============================] - 12s 3s/step - loss: 0.1159 - accuracy: 0.9750 - val_loss: 5.1428 - val_accuracy: 0.3667\n",
      "Epoch 72/100\n",
      "4/4 [==============================] - 12s 3s/step - loss: 0.1602 - accuracy: 0.9250 - val_loss: 5.4647 - val_accuracy: 0.3667\n",
      "Epoch 73/100\n",
      "4/4 [==============================] - 12s 3s/step - loss: 0.1068 - accuracy: 0.9583 - val_loss: 5.1642 - val_accuracy: 0.3667\n",
      "Epoch 74/100\n",
      "4/4 [==============================] - 12s 3s/step - loss: 0.1571 - accuracy: 0.9333 - val_loss: 4.4161 - val_accuracy: 0.4667\n",
      "Epoch 75/100\n",
      "4/4 [==============================] - 12s 3s/step - loss: 0.1462 - accuracy: 0.9583 - val_loss: 4.1550 - val_accuracy: 0.4667\n",
      "Epoch 76/100\n",
      "4/4 [==============================] - 12s 3s/step - loss: 0.1308 - accuracy: 0.9667 - val_loss: 4.3774 - val_accuracy: 0.4333\n",
      "Epoch 77/100\n",
      "4/4 [==============================] - 12s 3s/step - loss: 0.0941 - accuracy: 0.9750 - val_loss: 4.3797 - val_accuracy: 0.4333\n",
      "Epoch 78/100\n",
      "4/4 [==============================] - 12s 3s/step - loss: 0.1136 - accuracy: 0.9667 - val_loss: 4.9948 - val_accuracy: 0.4000\n",
      "Epoch 79/100\n",
      "4/4 [==============================] - 12s 3s/step - loss: 0.1251 - accuracy: 0.9583 - val_loss: 5.4944 - val_accuracy: 0.4333\n",
      "Epoch 80/100\n",
      "4/4 [==============================] - 12s 3s/step - loss: 0.0668 - accuracy: 1.0000 - val_loss: 5.4346 - val_accuracy: 0.4333\n",
      "Epoch 81/100\n",
      "4/4 [==============================] - 12s 3s/step - loss: 0.1275 - accuracy: 0.9667 - val_loss: 5.1947 - val_accuracy: 0.4333\n",
      "Epoch 82/100\n",
      "4/4 [==============================] - 12s 3s/step - loss: 0.1219 - accuracy: 0.9750 - val_loss: 5.3037 - val_accuracy: 0.4333\n",
      "Epoch 83/100\n",
      "4/4 [==============================] - 12s 3s/step - loss: 0.0886 - accuracy: 0.9583 - val_loss: 5.3711 - val_accuracy: 0.4333\n",
      "Epoch 84/100\n",
      "4/4 [==============================] - 12s 3s/step - loss: 0.1618 - accuracy: 0.9500 - val_loss: 5.0768 - val_accuracy: 0.4333\n",
      "Epoch 85/100\n",
      "4/4 [==============================] - 12s 3s/step - loss: 0.1082 - accuracy: 0.9583 - val_loss: 4.6862 - val_accuracy: 0.4333\n",
      "Epoch 86/100\n",
      "4/4 [==============================] - 12s 3s/step - loss: 0.0887 - accuracy: 0.9667 - val_loss: 4.6310 - val_accuracy: 0.4333\n",
      "Epoch 87/100\n",
      "4/4 [==============================] - 12s 3s/step - loss: 0.0568 - accuracy: 0.9833 - val_loss: 4.8485 - val_accuracy: 0.4000\n",
      "Epoch 88/100\n",
      "4/4 [==============================] - 12s 3s/step - loss: 0.0570 - accuracy: 0.9750 - val_loss: 5.0005 - val_accuracy: 0.4000\n",
      "Epoch 89/100\n",
      "4/4 [==============================] - 12s 3s/step - loss: 0.1520 - accuracy: 0.9500 - val_loss: 4.9843 - val_accuracy: 0.4333\n",
      "Epoch 90/100\n",
      "4/4 [==============================] - 12s 3s/step - loss: 0.0585 - accuracy: 0.9917 - val_loss: 5.1719 - val_accuracy: 0.4333\n",
      "Epoch 91/100\n",
      "4/4 [==============================] - 12s 3s/step - loss: 0.1383 - accuracy: 0.9583 - val_loss: 4.8367 - val_accuracy: 0.4667\n",
      "Epoch 92/100\n",
      "4/4 [==============================] - 12s 3s/step - loss: 0.0896 - accuracy: 0.9750 - val_loss: 4.7986 - val_accuracy: 0.4667\n",
      "Epoch 93/100\n",
      "4/4 [==============================] - 12s 3s/step - loss: 0.1456 - accuracy: 0.9667 - val_loss: 5.0572 - val_accuracy: 0.4333\n",
      "Epoch 94/100\n",
      "4/4 [==============================] - 12s 3s/step - loss: 0.1315 - accuracy: 0.9583 - val_loss: 5.3197 - val_accuracy: 0.4333\n",
      "Epoch 95/100\n",
      "4/4 [==============================] - 12s 3s/step - loss: 0.1005 - accuracy: 0.9583 - val_loss: 5.1455 - val_accuracy: 0.4000\n",
      "Epoch 96/100\n",
      "4/4 [==============================] - 12s 3s/step - loss: 0.0899 - accuracy: 0.9750 - val_loss: 5.0234 - val_accuracy: 0.4000\n",
      "Epoch 97/100\n",
      "4/4 [==============================] - 12s 3s/step - loss: 0.0581 - accuracy: 0.9833 - val_loss: 5.2316 - val_accuracy: 0.4333\n",
      "Epoch 98/100\n",
      "4/4 [==============================] - 12s 3s/step - loss: 0.1101 - accuracy: 0.9667 - val_loss: 5.6524 - val_accuracy: 0.3667\n",
      "Epoch 99/100\n",
      "4/4 [==============================] - 12s 3s/step - loss: 0.0987 - accuracy: 0.9667 - val_loss: 5.2854 - val_accuracy: 0.5000\n",
      "Epoch 100/100\n",
      "4/4 [==============================] - 12s 3s/step - loss: 0.0557 - accuracy: 0.9917 - val_loss: 5.2133 - val_accuracy: 0.5000\n"
     ]
    },
    {
     "data": {
      "text/plain": [
       "<keras.callbacks.History at 0x7f44b83b3190>"
      ]
     },
     "execution_count": 26,
     "metadata": {},
     "output_type": "execute_result"
    }
   ],
   "source": [
    "cnn.fit(x = training_set, validation_data = test_set, epochs = 100)"
   ]
  },
  {
   "cell_type": "markdown",
   "metadata": {
    "colab_type": "text",
    "id": "U3PZasO0006Z"
   },
   "source": [
    "## Part 4 - Making a single prediction"
   ]
  },
  {
   "cell_type": "code",
   "execution_count": 27,
   "metadata": {
    "colab": {},
    "colab_type": "code",
    "id": "gsSiWEJY1BPB"
   },
   "outputs": [],
   "source": [
    "import numpy as np\n",
    "from keras.preprocessing import image\n",
    "percent = 0.8\n",
    "test_image = image.load_img('img/single_prediction/neutro.png', target_size = (64, 64))\n",
    "test_image = image.img_to_array(test_image)\n",
    "test_image = np.expand_dims(test_image, axis = 0)\n",
    "result = cnn.predict(test_image)\n",
    "training_set.class_indices\n",
    "if result[0][0] > percent:\n",
    "    prediction = 'raiva'\n",
    "elif result[0][1] > percent:\n",
    "    prediction = 'nojinho'\n",
    "elif result[0][2] > percent:\n",
    "    prediction = 'medo'\n",
    "elif result[0][3] > percent:\n",
    "    prediction = 'alegria'\n",
    "elif result[0][4] > percent:\n",
    "    prediction = 'neutralidade'\n",
    "elif result[0][5] > percent:\n",
    "    prediction = 'alegria'\n",
    "else:\n",
    "    prediction = 'Iih rapaz...'"
   ]
  },
  {
   "cell_type": "code",
   "execution_count": 28,
   "metadata": {
    "colab": {},
    "colab_type": "code",
    "id": "ED9KB3I54c1i"
   },
   "outputs": [
    {
     "name": "stdout",
     "output_type": "stream",
     "text": [
      "raiva\n"
     ]
    }
   ],
   "source": [
    "print(prediction)"
   ]
  },
  {
   "cell_type": "code",
   "execution_count": 30,
   "metadata": {},
   "outputs": [
    {
     "name": "stdout",
     "output_type": "stream",
     "text": [
      "[[1. 1. 0. 1. 1. 0.]]\n"
     ]
    }
   ],
   "source": [
    "print(result)"
   ]
  },
  {
   "cell_type": "markdown",
   "metadata": {},
   "source": [
    "## Fim"
   ]
  }
 ],
 "metadata": {
  "colab": {
   "collapsed_sections": [],
   "name": "convolutional_neural_network.ipynb",
   "provenance": [],
   "toc_visible": true
  },
  "kernelspec": {
   "display_name": "Python 3 (ipykernel)",
   "language": "python",
   "name": "python3"
  },
  "language_info": {
   "codemirror_mode": {
    "name": "ipython",
    "version": 3
   },
   "file_extension": ".py",
   "mimetype": "text/x-python",
   "name": "python",
   "nbconvert_exporter": "python",
   "pygments_lexer": "ipython3",
   "version": "3.8.10"
  }
 },
 "nbformat": 4,
 "nbformat_minor": 4
}
